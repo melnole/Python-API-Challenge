{
 "cells": [
  {
   "cell_type": "markdown",
   "metadata": {},
   "source": [
    "# WeatherPy\n",
    "----\n",
    "\n",
    "#### Note\n",
    "* Instructions have been included for each segment. You do not have to follow them exactly, but they are included to help you think through the steps."
   ]
  },
  {
   "cell_type": "code",
   "execution_count": null,
   "metadata": {},
   "outputs": [],
   "source": [
    "#Findings:\n",
    "#temperatures are warmer from -20 to 20 lat\n",
    "#as lat increases, temp decreases\n",
    "#lats between 40 and 60 have a higher humidity percent than other locations (tends to be 80-100% humidity)\n"
   ]
  },
  {
   "cell_type": "code",
   "execution_count": 1,
   "metadata": {
    "scrolled": true
   },
   "outputs": [],
   "source": [
    "# Dependencies and Setup\n",
    "import matplotlib.pyplot as plt\n",
    "import pandas as pd\n",
    "import numpy as np\n",
    "import requests\n",
    "import time\n",
    "import scipy.stats\n",
    "from scipy import stats\n",
    "from scipy.stats import linregress\n",
    "from pprint import pprint\n",
    "\n",
    "# Import API key\n",
    "from api_keys import weather_api_key\n",
    "\n",
    "# Incorporated citipy to determine city based on latitude and longitude\n",
    "from citipy import citipy\n",
    "\n",
    "# Output File (CSV)\n",
    "output_data_file = \"output_data/cities.csv\"\n",
    "\n",
    "# Range of latitudes and longitudes\n",
    "lat_range = (-90, 90)\n",
    "lng_range = (-180, 180)"
   ]
  },
  {
   "cell_type": "markdown",
   "metadata": {},
   "source": [
    "## Generate Cities List"
   ]
  },
  {
   "cell_type": "code",
   "execution_count": 2,
   "metadata": {},
   "outputs": [
    {
     "data": {
      "text/plain": [
       "627"
      ]
     },
     "execution_count": 2,
     "metadata": {},
     "output_type": "execute_result"
    }
   ],
   "source": [
    "# List for holding lat_lngs and cities\n",
    "lat_lngs = []\n",
    "cities = []\n",
    "\n",
    "# Create a set of random lat and lng combinations\n",
    "lats = np.random.uniform(low=-90.000, high=90.000, size=1500)\n",
    "lngs = np.random.uniform(low=-180.000, high=180.000, size=1500)\n",
    "lat_lngs = zip(lats, lngs)\n",
    "\n",
    "# Identify nearest city for each lat, lng combination\n",
    "for lat_lng in lat_lngs:\n",
    "    city = citipy.nearest_city(lat_lng[0], lat_lng[1]).city_name\n",
    "    \n",
    "    # If the city is unique, then add it to a our cities list\n",
    "    if city not in cities:\n",
    "        cities.append(city)\n",
    "\n",
    "# Print the city count to confirm sufficient count\n",
    "len(cities)"
   ]
  },
  {
   "cell_type": "code",
   "execution_count": 3,
   "metadata": {},
   "outputs": [
    {
     "data": {
      "text/plain": [
       "'gornyak'"
      ]
     },
     "execution_count": 3,
     "metadata": {},
     "output_type": "execute_result"
    }
   ],
   "source": [
    "tempCities=pd.DataFrame(cities)\n",
    "tempCities[0][0]"
   ]
  },
  {
   "cell_type": "code",
   "execution_count": 6,
   "metadata": {
    "scrolled": true
   },
   "outputs": [
    {
     "data": {
      "text/plain": [
       "{'coord': {'lon': 21.93, 'lat': -21.53},\n",
       " 'weather': [{'id': 804,\n",
       "   'main': 'Clouds',\n",
       "   'description': 'overcast clouds',\n",
       "   'icon': '04n'}],\n",
       " 'base': 'model',\n",
       " 'main': {'temp': 74.97,\n",
       "  'feels_like': 74.75,\n",
       "  'temp_min': 74.97,\n",
       "  'temp_max': 74.97,\n",
       "  'pressure': 1013,\n",
       "  'humidity': 59,\n",
       "  'sea_level': 1013,\n",
       "  'grnd_level': 889},\n",
       " 'wind': {'speed': 5.97, 'deg': 357},\n",
       " 'clouds': {'all': 100},\n",
       " 'dt': 1580153507,\n",
       " 'sys': {'country': 'BW', 'sunrise': 1580098225, 'sunset': 1580145546},\n",
       " 'timezone': 7200,\n",
       " 'id': 933815,\n",
       " 'name': 'Dekar',\n",
       " 'cod': 200}"
      ]
     },
     "execution_count": 6,
     "metadata": {},
     "output_type": "execute_result"
    }
   ],
   "source": [
    "units = \"imperial\"\n",
    "url = \"http://api.openweathermap.org/data/2.5/weather?\"\n",
    "query_url = f\"{url}appid={weather_api_key}&units={units}&q=dekar\"\n",
    "response = requests.get(query_url).json()\n",
    "response"
   ]
  },
  {
   "cell_type": "code",
   "execution_count": 23,
   "metadata": {},
   "outputs": [
    {
     "data": {
      "text/plain": [
       "'http://api.openweathermap.org/data/2.5/weather?appid=d235cc0d4979e132a114b7e11dced52d&units=imperial&q=dekar'"
      ]
     },
     "execution_count": 23,
     "metadata": {},
     "output_type": "execute_result"
    }
   ],
   "source": [
    "query_url"
   ]
  },
  {
   "cell_type": "markdown",
   "metadata": {},
   "source": [
    "### Perform API Calls\n",
    "* Perform a weather check on each city using a series of successive API calls.\n",
    "* Include a print log of each city as it'sbeing processed (with the city number and city name).\n"
   ]
  },
  {
   "cell_type": "code",
   "execution_count": 4,
   "metadata": {},
   "outputs": [
    {
     "name": "stdout",
     "output_type": "stream",
     "text": [
      "City : gornyak\n",
      "City : fairbanks\n",
      "City : nome\n",
      "City : leshukonskoye\n",
      "City : huambo\n",
      "City : victoria point\n",
      "City : tiksi\n",
      "City : pevek\n",
      "City : clarence town\n",
      "City : dolores\n",
      "City : georgetown\n",
      "City : belaya gora\n",
      "City : chuy\n",
      "City : sur\n",
      "City : coihaique\n",
      "City : lincoln\n",
      "City : hermanus\n",
      "City : borogontsy\n",
      "City : beaver dam\n",
      "City : attawapiskat\n",
      "City : maiduguri\n",
      "City : mataura\n",
      "City : zhigansk\n",
      "City : east london\n",
      "City : samusu\n",
      "City : vardo\n",
      "City : fortuna\n",
      "City : maralal\n",
      "City : kahului\n",
      "City : dipkarpaz\n",
      "City : rikitea\n",
      "City : cape town\n"
     ]
    },
    {
     "ename": "ConnectionError",
     "evalue": "HTTPConnectionPool(host='api.openweathermap.org', port=80): Max retries exceeded with url: /data/2.5/weather?q=cape+town&appid=d235cc0d4979e132a114b7e11dced52d&units=imperial (Caused by NewConnectionError('<urllib3.connection.HTTPConnection object at 0x000001DB4F4D6308>: Failed to establish a new connection: [WinError 10060] A connection attempt failed because the connected party did not properly respond after a period of time, or established connection failed because connected host has failed to respond'))",
     "output_type": "error",
     "traceback": [
      "\u001b[1;31m---------------------------------------------------------------------------\u001b[0m",
      "\u001b[1;31mTimeoutError\u001b[0m                              Traceback (most recent call last)",
      "\u001b[1;32m~\\AppData\\Local\\Continuum\\anaconda3\\lib\\site-packages\\urllib3\\connection.py\u001b[0m in \u001b[0;36m_new_conn\u001b[1;34m(self)\u001b[0m\n\u001b[0;32m    158\u001b[0m             conn = connection.create_connection(\n\u001b[1;32m--> 159\u001b[1;33m                 (self._dns_host, self.port), self.timeout, **extra_kw)\n\u001b[0m\u001b[0;32m    160\u001b[0m \u001b[1;33m\u001b[0m\u001b[0m\n",
      "\u001b[1;32m~\\AppData\\Local\\Continuum\\anaconda3\\lib\\site-packages\\urllib3\\util\\connection.py\u001b[0m in \u001b[0;36mcreate_connection\u001b[1;34m(address, timeout, source_address, socket_options)\u001b[0m\n\u001b[0;32m     79\u001b[0m     \u001b[1;32mif\u001b[0m \u001b[0merr\u001b[0m \u001b[1;32mis\u001b[0m \u001b[1;32mnot\u001b[0m \u001b[1;32mNone\u001b[0m\u001b[1;33m:\u001b[0m\u001b[1;33m\u001b[0m\u001b[1;33m\u001b[0m\u001b[0m\n\u001b[1;32m---> 80\u001b[1;33m         \u001b[1;32mraise\u001b[0m \u001b[0merr\u001b[0m\u001b[1;33m\u001b[0m\u001b[1;33m\u001b[0m\u001b[0m\n\u001b[0m\u001b[0;32m     81\u001b[0m \u001b[1;33m\u001b[0m\u001b[0m\n",
      "\u001b[1;32m~\\AppData\\Local\\Continuum\\anaconda3\\lib\\site-packages\\urllib3\\util\\connection.py\u001b[0m in \u001b[0;36mcreate_connection\u001b[1;34m(address, timeout, source_address, socket_options)\u001b[0m\n\u001b[0;32m     69\u001b[0m                 \u001b[0msock\u001b[0m\u001b[1;33m.\u001b[0m\u001b[0mbind\u001b[0m\u001b[1;33m(\u001b[0m\u001b[0msource_address\u001b[0m\u001b[1;33m)\u001b[0m\u001b[1;33m\u001b[0m\u001b[1;33m\u001b[0m\u001b[0m\n\u001b[1;32m---> 70\u001b[1;33m             \u001b[0msock\u001b[0m\u001b[1;33m.\u001b[0m\u001b[0mconnect\u001b[0m\u001b[1;33m(\u001b[0m\u001b[0msa\u001b[0m\u001b[1;33m)\u001b[0m\u001b[1;33m\u001b[0m\u001b[1;33m\u001b[0m\u001b[0m\n\u001b[0m\u001b[0;32m     71\u001b[0m             \u001b[1;32mreturn\u001b[0m \u001b[0msock\u001b[0m\u001b[1;33m\u001b[0m\u001b[1;33m\u001b[0m\u001b[0m\n",
      "\u001b[1;31mTimeoutError\u001b[0m: [WinError 10060] A connection attempt failed because the connected party did not properly respond after a period of time, or established connection failed because connected host has failed to respond",
      "\nDuring handling of the above exception, another exception occurred:\n",
      "\u001b[1;31mNewConnectionError\u001b[0m                        Traceback (most recent call last)",
      "\u001b[1;32m~\\AppData\\Local\\Continuum\\anaconda3\\lib\\site-packages\\urllib3\\connectionpool.py\u001b[0m in \u001b[0;36murlopen\u001b[1;34m(self, method, url, body, headers, retries, redirect, assert_same_host, timeout, pool_timeout, release_conn, chunked, body_pos, **response_kw)\u001b[0m\n\u001b[0;32m    599\u001b[0m                                                   \u001b[0mbody\u001b[0m\u001b[1;33m=\u001b[0m\u001b[0mbody\u001b[0m\u001b[1;33m,\u001b[0m \u001b[0mheaders\u001b[0m\u001b[1;33m=\u001b[0m\u001b[0mheaders\u001b[0m\u001b[1;33m,\u001b[0m\u001b[1;33m\u001b[0m\u001b[1;33m\u001b[0m\u001b[0m\n\u001b[1;32m--> 600\u001b[1;33m                                                   chunked=chunked)\n\u001b[0m\u001b[0;32m    601\u001b[0m \u001b[1;33m\u001b[0m\u001b[0m\n",
      "\u001b[1;32m~\\AppData\\Local\\Continuum\\anaconda3\\lib\\site-packages\\urllib3\\connectionpool.py\u001b[0m in \u001b[0;36m_make_request\u001b[1;34m(self, conn, method, url, timeout, chunked, **httplib_request_kw)\u001b[0m\n\u001b[0;32m    353\u001b[0m         \u001b[1;32melse\u001b[0m\u001b[1;33m:\u001b[0m\u001b[1;33m\u001b[0m\u001b[1;33m\u001b[0m\u001b[0m\n\u001b[1;32m--> 354\u001b[1;33m             \u001b[0mconn\u001b[0m\u001b[1;33m.\u001b[0m\u001b[0mrequest\u001b[0m\u001b[1;33m(\u001b[0m\u001b[0mmethod\u001b[0m\u001b[1;33m,\u001b[0m \u001b[0murl\u001b[0m\u001b[1;33m,\u001b[0m \u001b[1;33m**\u001b[0m\u001b[0mhttplib_request_kw\u001b[0m\u001b[1;33m)\u001b[0m\u001b[1;33m\u001b[0m\u001b[1;33m\u001b[0m\u001b[0m\n\u001b[0m\u001b[0;32m    355\u001b[0m \u001b[1;33m\u001b[0m\u001b[0m\n",
      "\u001b[1;32m~\\AppData\\Local\\Continuum\\anaconda3\\lib\\http\\client.py\u001b[0m in \u001b[0;36mrequest\u001b[1;34m(self, method, url, body, headers, encode_chunked)\u001b[0m\n\u001b[0;32m   1243\u001b[0m         \u001b[1;34m\"\"\"Send a complete request to the server.\"\"\"\u001b[0m\u001b[1;33m\u001b[0m\u001b[1;33m\u001b[0m\u001b[0m\n\u001b[1;32m-> 1244\u001b[1;33m         \u001b[0mself\u001b[0m\u001b[1;33m.\u001b[0m\u001b[0m_send_request\u001b[0m\u001b[1;33m(\u001b[0m\u001b[0mmethod\u001b[0m\u001b[1;33m,\u001b[0m \u001b[0murl\u001b[0m\u001b[1;33m,\u001b[0m \u001b[0mbody\u001b[0m\u001b[1;33m,\u001b[0m \u001b[0mheaders\u001b[0m\u001b[1;33m,\u001b[0m \u001b[0mencode_chunked\u001b[0m\u001b[1;33m)\u001b[0m\u001b[1;33m\u001b[0m\u001b[1;33m\u001b[0m\u001b[0m\n\u001b[0m\u001b[0;32m   1245\u001b[0m \u001b[1;33m\u001b[0m\u001b[0m\n",
      "\u001b[1;32m~\\AppData\\Local\\Continuum\\anaconda3\\lib\\http\\client.py\u001b[0m in \u001b[0;36m_send_request\u001b[1;34m(self, method, url, body, headers, encode_chunked)\u001b[0m\n\u001b[0;32m   1289\u001b[0m             \u001b[0mbody\u001b[0m \u001b[1;33m=\u001b[0m \u001b[0m_encode\u001b[0m\u001b[1;33m(\u001b[0m\u001b[0mbody\u001b[0m\u001b[1;33m,\u001b[0m \u001b[1;34m'body'\u001b[0m\u001b[1;33m)\u001b[0m\u001b[1;33m\u001b[0m\u001b[1;33m\u001b[0m\u001b[0m\n\u001b[1;32m-> 1290\u001b[1;33m         \u001b[0mself\u001b[0m\u001b[1;33m.\u001b[0m\u001b[0mendheaders\u001b[0m\u001b[1;33m(\u001b[0m\u001b[0mbody\u001b[0m\u001b[1;33m,\u001b[0m \u001b[0mencode_chunked\u001b[0m\u001b[1;33m=\u001b[0m\u001b[0mencode_chunked\u001b[0m\u001b[1;33m)\u001b[0m\u001b[1;33m\u001b[0m\u001b[1;33m\u001b[0m\u001b[0m\n\u001b[0m\u001b[0;32m   1291\u001b[0m \u001b[1;33m\u001b[0m\u001b[0m\n",
      "\u001b[1;32m~\\AppData\\Local\\Continuum\\anaconda3\\lib\\http\\client.py\u001b[0m in \u001b[0;36mendheaders\u001b[1;34m(self, message_body, encode_chunked)\u001b[0m\n\u001b[0;32m   1238\u001b[0m             \u001b[1;32mraise\u001b[0m \u001b[0mCannotSendHeader\u001b[0m\u001b[1;33m(\u001b[0m\u001b[1;33m)\u001b[0m\u001b[1;33m\u001b[0m\u001b[1;33m\u001b[0m\u001b[0m\n\u001b[1;32m-> 1239\u001b[1;33m         \u001b[0mself\u001b[0m\u001b[1;33m.\u001b[0m\u001b[0m_send_output\u001b[0m\u001b[1;33m(\u001b[0m\u001b[0mmessage_body\u001b[0m\u001b[1;33m,\u001b[0m \u001b[0mencode_chunked\u001b[0m\u001b[1;33m=\u001b[0m\u001b[0mencode_chunked\u001b[0m\u001b[1;33m)\u001b[0m\u001b[1;33m\u001b[0m\u001b[1;33m\u001b[0m\u001b[0m\n\u001b[0m\u001b[0;32m   1240\u001b[0m \u001b[1;33m\u001b[0m\u001b[0m\n",
      "\u001b[1;32m~\\AppData\\Local\\Continuum\\anaconda3\\lib\\http\\client.py\u001b[0m in \u001b[0;36m_send_output\u001b[1;34m(self, message_body, encode_chunked)\u001b[0m\n\u001b[0;32m   1025\u001b[0m         \u001b[1;32mdel\u001b[0m \u001b[0mself\u001b[0m\u001b[1;33m.\u001b[0m\u001b[0m_buffer\u001b[0m\u001b[1;33m[\u001b[0m\u001b[1;33m:\u001b[0m\u001b[1;33m]\u001b[0m\u001b[1;33m\u001b[0m\u001b[1;33m\u001b[0m\u001b[0m\n\u001b[1;32m-> 1026\u001b[1;33m         \u001b[0mself\u001b[0m\u001b[1;33m.\u001b[0m\u001b[0msend\u001b[0m\u001b[1;33m(\u001b[0m\u001b[0mmsg\u001b[0m\u001b[1;33m)\u001b[0m\u001b[1;33m\u001b[0m\u001b[1;33m\u001b[0m\u001b[0m\n\u001b[0m\u001b[0;32m   1027\u001b[0m \u001b[1;33m\u001b[0m\u001b[0m\n",
      "\u001b[1;32m~\\AppData\\Local\\Continuum\\anaconda3\\lib\\http\\client.py\u001b[0m in \u001b[0;36msend\u001b[1;34m(self, data)\u001b[0m\n\u001b[0;32m    965\u001b[0m             \u001b[1;32mif\u001b[0m \u001b[0mself\u001b[0m\u001b[1;33m.\u001b[0m\u001b[0mauto_open\u001b[0m\u001b[1;33m:\u001b[0m\u001b[1;33m\u001b[0m\u001b[1;33m\u001b[0m\u001b[0m\n\u001b[1;32m--> 966\u001b[1;33m                 \u001b[0mself\u001b[0m\u001b[1;33m.\u001b[0m\u001b[0mconnect\u001b[0m\u001b[1;33m(\u001b[0m\u001b[1;33m)\u001b[0m\u001b[1;33m\u001b[0m\u001b[1;33m\u001b[0m\u001b[0m\n\u001b[0m\u001b[0;32m    967\u001b[0m             \u001b[1;32melse\u001b[0m\u001b[1;33m:\u001b[0m\u001b[1;33m\u001b[0m\u001b[1;33m\u001b[0m\u001b[0m\n",
      "\u001b[1;32m~\\AppData\\Local\\Continuum\\anaconda3\\lib\\site-packages\\urllib3\\connection.py\u001b[0m in \u001b[0;36mconnect\u001b[1;34m(self)\u001b[0m\n\u001b[0;32m    180\u001b[0m     \u001b[1;32mdef\u001b[0m \u001b[0mconnect\u001b[0m\u001b[1;33m(\u001b[0m\u001b[0mself\u001b[0m\u001b[1;33m)\u001b[0m\u001b[1;33m:\u001b[0m\u001b[1;33m\u001b[0m\u001b[1;33m\u001b[0m\u001b[0m\n\u001b[1;32m--> 181\u001b[1;33m         \u001b[0mconn\u001b[0m \u001b[1;33m=\u001b[0m \u001b[0mself\u001b[0m\u001b[1;33m.\u001b[0m\u001b[0m_new_conn\u001b[0m\u001b[1;33m(\u001b[0m\u001b[1;33m)\u001b[0m\u001b[1;33m\u001b[0m\u001b[1;33m\u001b[0m\u001b[0m\n\u001b[0m\u001b[0;32m    182\u001b[0m         \u001b[0mself\u001b[0m\u001b[1;33m.\u001b[0m\u001b[0m_prepare_conn\u001b[0m\u001b[1;33m(\u001b[0m\u001b[0mconn\u001b[0m\u001b[1;33m)\u001b[0m\u001b[1;33m\u001b[0m\u001b[1;33m\u001b[0m\u001b[0m\n",
      "\u001b[1;32m~\\AppData\\Local\\Continuum\\anaconda3\\lib\\site-packages\\urllib3\\connection.py\u001b[0m in \u001b[0;36m_new_conn\u001b[1;34m(self)\u001b[0m\n\u001b[0;32m    167\u001b[0m             raise NewConnectionError(\n\u001b[1;32m--> 168\u001b[1;33m                 self, \"Failed to establish a new connection: %s\" % e)\n\u001b[0m\u001b[0;32m    169\u001b[0m \u001b[1;33m\u001b[0m\u001b[0m\n",
      "\u001b[1;31mNewConnectionError\u001b[0m: <urllib3.connection.HTTPConnection object at 0x000001DB4F4D6308>: Failed to establish a new connection: [WinError 10060] A connection attempt failed because the connected party did not properly respond after a period of time, or established connection failed because connected host has failed to respond",
      "\nDuring handling of the above exception, another exception occurred:\n",
      "\u001b[1;31mMaxRetryError\u001b[0m                             Traceback (most recent call last)",
      "\u001b[1;32m~\\AppData\\Local\\Continuum\\anaconda3\\lib\\site-packages\\requests\\adapters.py\u001b[0m in \u001b[0;36msend\u001b[1;34m(self, request, stream, timeout, verify, cert, proxies)\u001b[0m\n\u001b[0;32m    448\u001b[0m                     \u001b[0mretries\u001b[0m\u001b[1;33m=\u001b[0m\u001b[0mself\u001b[0m\u001b[1;33m.\u001b[0m\u001b[0mmax_retries\u001b[0m\u001b[1;33m,\u001b[0m\u001b[1;33m\u001b[0m\u001b[1;33m\u001b[0m\u001b[0m\n\u001b[1;32m--> 449\u001b[1;33m                     \u001b[0mtimeout\u001b[0m\u001b[1;33m=\u001b[0m\u001b[0mtimeout\u001b[0m\u001b[1;33m\u001b[0m\u001b[1;33m\u001b[0m\u001b[0m\n\u001b[0m\u001b[0;32m    450\u001b[0m                 )\n",
      "\u001b[1;32m~\\AppData\\Local\\Continuum\\anaconda3\\lib\\site-packages\\urllib3\\connectionpool.py\u001b[0m in \u001b[0;36murlopen\u001b[1;34m(self, method, url, body, headers, retries, redirect, assert_same_host, timeout, pool_timeout, release_conn, chunked, body_pos, **response_kw)\u001b[0m\n\u001b[0;32m    637\u001b[0m             retries = retries.increment(method, url, error=e, _pool=self,\n\u001b[1;32m--> 638\u001b[1;33m                                         _stacktrace=sys.exc_info()[2])\n\u001b[0m\u001b[0;32m    639\u001b[0m             \u001b[0mretries\u001b[0m\u001b[1;33m.\u001b[0m\u001b[0msleep\u001b[0m\u001b[1;33m(\u001b[0m\u001b[1;33m)\u001b[0m\u001b[1;33m\u001b[0m\u001b[1;33m\u001b[0m\u001b[0m\n",
      "\u001b[1;32m~\\AppData\\Local\\Continuum\\anaconda3\\lib\\site-packages\\urllib3\\util\\retry.py\u001b[0m in \u001b[0;36mincrement\u001b[1;34m(self, method, url, response, error, _pool, _stacktrace)\u001b[0m\n\u001b[0;32m    398\u001b[0m         \u001b[1;32mif\u001b[0m \u001b[0mnew_retry\u001b[0m\u001b[1;33m.\u001b[0m\u001b[0mis_exhausted\u001b[0m\u001b[1;33m(\u001b[0m\u001b[1;33m)\u001b[0m\u001b[1;33m:\u001b[0m\u001b[1;33m\u001b[0m\u001b[1;33m\u001b[0m\u001b[0m\n\u001b[1;32m--> 399\u001b[1;33m             \u001b[1;32mraise\u001b[0m \u001b[0mMaxRetryError\u001b[0m\u001b[1;33m(\u001b[0m\u001b[0m_pool\u001b[0m\u001b[1;33m,\u001b[0m \u001b[0murl\u001b[0m\u001b[1;33m,\u001b[0m \u001b[0merror\u001b[0m \u001b[1;32mor\u001b[0m \u001b[0mResponseError\u001b[0m\u001b[1;33m(\u001b[0m\u001b[0mcause\u001b[0m\u001b[1;33m)\u001b[0m\u001b[1;33m)\u001b[0m\u001b[1;33m\u001b[0m\u001b[1;33m\u001b[0m\u001b[0m\n\u001b[0m\u001b[0;32m    400\u001b[0m \u001b[1;33m\u001b[0m\u001b[0m\n",
      "\u001b[1;31mMaxRetryError\u001b[0m: HTTPConnectionPool(host='api.openweathermap.org', port=80): Max retries exceeded with url: /data/2.5/weather?q=cape+town&appid=d235cc0d4979e132a114b7e11dced52d&units=imperial (Caused by NewConnectionError('<urllib3.connection.HTTPConnection object at 0x000001DB4F4D6308>: Failed to establish a new connection: [WinError 10060] A connection attempt failed because the connected party did not properly respond after a period of time, or established connection failed because connected host has failed to respond'))",
      "\nDuring handling of the above exception, another exception occurred:\n",
      "\u001b[1;31mConnectionError\u001b[0m                           Traceback (most recent call last)",
      "\u001b[1;32m<ipython-input-4-aaee41950b30>\u001b[0m in \u001b[0;36m<module>\u001b[1;34m\u001b[0m\n\u001b[0;32m     15\u001b[0m     \u001b[0mprint\u001b[0m\u001b[1;33m(\u001b[0m\u001b[1;34mf\"City : {city[1][0]}\"\u001b[0m\u001b[1;33m)\u001b[0m\u001b[1;33m\u001b[0m\u001b[1;33m\u001b[0m\u001b[0m\n\u001b[0;32m     16\u001b[0m     \u001b[1;31m#print(f\"City Number : {id}\")\u001b[0m\u001b[1;33m\u001b[0m\u001b[1;33m\u001b[0m\u001b[1;33m\u001b[0m\u001b[0m\n\u001b[1;32m---> 17\u001b[1;33m     \u001b[0mresults\u001b[0m \u001b[1;33m=\u001b[0m \u001b[0mrequests\u001b[0m\u001b[1;33m.\u001b[0m\u001b[0mget\u001b[0m\u001b[1;33m(\u001b[0m\u001b[0murl\u001b[0m\u001b[1;33m,\u001b[0m \u001b[0mparams\u001b[0m\u001b[1;33m=\u001b[0m\u001b[0mparams\u001b[0m\u001b[1;33m)\u001b[0m\u001b[1;33m.\u001b[0m\u001b[0mjson\u001b[0m\u001b[1;33m(\u001b[0m\u001b[1;33m)\u001b[0m\u001b[1;33m\u001b[0m\u001b[1;33m\u001b[0m\u001b[0m\n\u001b[0m\u001b[0;32m     18\u001b[0m     \u001b[0mweather_results\u001b[0m\u001b[1;33m.\u001b[0m\u001b[0mappend\u001b[0m\u001b[1;33m(\u001b[0m\u001b[0mresults\u001b[0m\u001b[1;33m)\u001b[0m\u001b[1;33m\u001b[0m\u001b[1;33m\u001b[0m\u001b[0m\n\u001b[0;32m     19\u001b[0m     \u001b[0mtime\u001b[0m\u001b[1;33m.\u001b[0m\u001b[0msleep\u001b[0m\u001b[1;33m(\u001b[0m\u001b[1;36m1.5\u001b[0m\u001b[1;33m)\u001b[0m\u001b[1;33m\u001b[0m\u001b[1;33m\u001b[0m\u001b[0m\n",
      "\u001b[1;32m~\\AppData\\Local\\Continuum\\anaconda3\\lib\\site-packages\\requests\\api.py\u001b[0m in \u001b[0;36mget\u001b[1;34m(url, params, **kwargs)\u001b[0m\n\u001b[0;32m     73\u001b[0m \u001b[1;33m\u001b[0m\u001b[0m\n\u001b[0;32m     74\u001b[0m     \u001b[0mkwargs\u001b[0m\u001b[1;33m.\u001b[0m\u001b[0msetdefault\u001b[0m\u001b[1;33m(\u001b[0m\u001b[1;34m'allow_redirects'\u001b[0m\u001b[1;33m,\u001b[0m \u001b[1;32mTrue\u001b[0m\u001b[1;33m)\u001b[0m\u001b[1;33m\u001b[0m\u001b[1;33m\u001b[0m\u001b[0m\n\u001b[1;32m---> 75\u001b[1;33m     \u001b[1;32mreturn\u001b[0m \u001b[0mrequest\u001b[0m\u001b[1;33m(\u001b[0m\u001b[1;34m'get'\u001b[0m\u001b[1;33m,\u001b[0m \u001b[0murl\u001b[0m\u001b[1;33m,\u001b[0m \u001b[0mparams\u001b[0m\u001b[1;33m=\u001b[0m\u001b[0mparams\u001b[0m\u001b[1;33m,\u001b[0m \u001b[1;33m**\u001b[0m\u001b[0mkwargs\u001b[0m\u001b[1;33m)\u001b[0m\u001b[1;33m\u001b[0m\u001b[1;33m\u001b[0m\u001b[0m\n\u001b[0m\u001b[0;32m     76\u001b[0m \u001b[1;33m\u001b[0m\u001b[0m\n\u001b[0;32m     77\u001b[0m \u001b[1;33m\u001b[0m\u001b[0m\n",
      "\u001b[1;32m~\\AppData\\Local\\Continuum\\anaconda3\\lib\\site-packages\\requests\\api.py\u001b[0m in \u001b[0;36mrequest\u001b[1;34m(method, url, **kwargs)\u001b[0m\n\u001b[0;32m     58\u001b[0m     \u001b[1;31m# cases, and look like a memory leak in others.\u001b[0m\u001b[1;33m\u001b[0m\u001b[1;33m\u001b[0m\u001b[1;33m\u001b[0m\u001b[0m\n\u001b[0;32m     59\u001b[0m     \u001b[1;32mwith\u001b[0m \u001b[0msessions\u001b[0m\u001b[1;33m.\u001b[0m\u001b[0mSession\u001b[0m\u001b[1;33m(\u001b[0m\u001b[1;33m)\u001b[0m \u001b[1;32mas\u001b[0m \u001b[0msession\u001b[0m\u001b[1;33m:\u001b[0m\u001b[1;33m\u001b[0m\u001b[1;33m\u001b[0m\u001b[0m\n\u001b[1;32m---> 60\u001b[1;33m         \u001b[1;32mreturn\u001b[0m \u001b[0msession\u001b[0m\u001b[1;33m.\u001b[0m\u001b[0mrequest\u001b[0m\u001b[1;33m(\u001b[0m\u001b[0mmethod\u001b[0m\u001b[1;33m=\u001b[0m\u001b[0mmethod\u001b[0m\u001b[1;33m,\u001b[0m \u001b[0murl\u001b[0m\u001b[1;33m=\u001b[0m\u001b[0murl\u001b[0m\u001b[1;33m,\u001b[0m \u001b[1;33m**\u001b[0m\u001b[0mkwargs\u001b[0m\u001b[1;33m)\u001b[0m\u001b[1;33m\u001b[0m\u001b[1;33m\u001b[0m\u001b[0m\n\u001b[0m\u001b[0;32m     61\u001b[0m \u001b[1;33m\u001b[0m\u001b[0m\n\u001b[0;32m     62\u001b[0m \u001b[1;33m\u001b[0m\u001b[0m\n",
      "\u001b[1;32m~\\AppData\\Local\\Continuum\\anaconda3\\lib\\site-packages\\requests\\sessions.py\u001b[0m in \u001b[0;36mrequest\u001b[1;34m(self, method, url, params, data, headers, cookies, files, auth, timeout, allow_redirects, proxies, hooks, stream, verify, cert, json)\u001b[0m\n\u001b[0;32m    531\u001b[0m         }\n\u001b[0;32m    532\u001b[0m         \u001b[0msend_kwargs\u001b[0m\u001b[1;33m.\u001b[0m\u001b[0mupdate\u001b[0m\u001b[1;33m(\u001b[0m\u001b[0msettings\u001b[0m\u001b[1;33m)\u001b[0m\u001b[1;33m\u001b[0m\u001b[1;33m\u001b[0m\u001b[0m\n\u001b[1;32m--> 533\u001b[1;33m         \u001b[0mresp\u001b[0m \u001b[1;33m=\u001b[0m \u001b[0mself\u001b[0m\u001b[1;33m.\u001b[0m\u001b[0msend\u001b[0m\u001b[1;33m(\u001b[0m\u001b[0mprep\u001b[0m\u001b[1;33m,\u001b[0m \u001b[1;33m**\u001b[0m\u001b[0msend_kwargs\u001b[0m\u001b[1;33m)\u001b[0m\u001b[1;33m\u001b[0m\u001b[1;33m\u001b[0m\u001b[0m\n\u001b[0m\u001b[0;32m    534\u001b[0m \u001b[1;33m\u001b[0m\u001b[0m\n\u001b[0;32m    535\u001b[0m         \u001b[1;32mreturn\u001b[0m \u001b[0mresp\u001b[0m\u001b[1;33m\u001b[0m\u001b[1;33m\u001b[0m\u001b[0m\n",
      "\u001b[1;32m~\\AppData\\Local\\Continuum\\anaconda3\\lib\\site-packages\\requests\\sessions.py\u001b[0m in \u001b[0;36msend\u001b[1;34m(self, request, **kwargs)\u001b[0m\n\u001b[0;32m    644\u001b[0m \u001b[1;33m\u001b[0m\u001b[0m\n\u001b[0;32m    645\u001b[0m         \u001b[1;31m# Send the request\u001b[0m\u001b[1;33m\u001b[0m\u001b[1;33m\u001b[0m\u001b[1;33m\u001b[0m\u001b[0m\n\u001b[1;32m--> 646\u001b[1;33m         \u001b[0mr\u001b[0m \u001b[1;33m=\u001b[0m \u001b[0madapter\u001b[0m\u001b[1;33m.\u001b[0m\u001b[0msend\u001b[0m\u001b[1;33m(\u001b[0m\u001b[0mrequest\u001b[0m\u001b[1;33m,\u001b[0m \u001b[1;33m**\u001b[0m\u001b[0mkwargs\u001b[0m\u001b[1;33m)\u001b[0m\u001b[1;33m\u001b[0m\u001b[1;33m\u001b[0m\u001b[0m\n\u001b[0m\u001b[0;32m    647\u001b[0m \u001b[1;33m\u001b[0m\u001b[0m\n\u001b[0;32m    648\u001b[0m         \u001b[1;31m# Total elapsed time of the request (approximately)\u001b[0m\u001b[1;33m\u001b[0m\u001b[1;33m\u001b[0m\u001b[1;33m\u001b[0m\u001b[0m\n",
      "\u001b[1;32m~\\AppData\\Local\\Continuum\\anaconda3\\lib\\site-packages\\requests\\adapters.py\u001b[0m in \u001b[0;36msend\u001b[1;34m(self, request, stream, timeout, verify, cert, proxies)\u001b[0m\n\u001b[0;32m    514\u001b[0m                 \u001b[1;32mraise\u001b[0m \u001b[0mSSLError\u001b[0m\u001b[1;33m(\u001b[0m\u001b[0me\u001b[0m\u001b[1;33m,\u001b[0m \u001b[0mrequest\u001b[0m\u001b[1;33m=\u001b[0m\u001b[0mrequest\u001b[0m\u001b[1;33m)\u001b[0m\u001b[1;33m\u001b[0m\u001b[1;33m\u001b[0m\u001b[0m\n\u001b[0;32m    515\u001b[0m \u001b[1;33m\u001b[0m\u001b[0m\n\u001b[1;32m--> 516\u001b[1;33m             \u001b[1;32mraise\u001b[0m \u001b[0mConnectionError\u001b[0m\u001b[1;33m(\u001b[0m\u001b[0me\u001b[0m\u001b[1;33m,\u001b[0m \u001b[0mrequest\u001b[0m\u001b[1;33m=\u001b[0m\u001b[0mrequest\u001b[0m\u001b[1;33m)\u001b[0m\u001b[1;33m\u001b[0m\u001b[1;33m\u001b[0m\u001b[0m\n\u001b[0m\u001b[0;32m    517\u001b[0m \u001b[1;33m\u001b[0m\u001b[0m\n\u001b[0;32m    518\u001b[0m         \u001b[1;32mexcept\u001b[0m \u001b[0mClosedPoolError\u001b[0m \u001b[1;32mas\u001b[0m \u001b[0me\u001b[0m\u001b[1;33m:\u001b[0m\u001b[1;33m\u001b[0m\u001b[1;33m\u001b[0m\u001b[0m\n",
      "\u001b[1;31mConnectionError\u001b[0m: HTTPConnectionPool(host='api.openweathermap.org', port=80): Max retries exceeded with url: /data/2.5/weather?q=cape+town&appid=d235cc0d4979e132a114b7e11dced52d&units=imperial (Caused by NewConnectionError('<urllib3.connection.HTTPConnection object at 0x000001DB4F4D6308>: Failed to establish a new connection: [WinError 10060] A connection attempt failed because the connected party did not properly respond after a period of time, or established connection failed because connected host has failed to respond'))"
     ]
    }
   ],
   "source": [
    "# stupid Loop\n",
    "cities = pd.DataFrame(cities)\n",
    "weather_results = []\n",
    "url = \"http://api.openweathermap.org/data/2.5/weather\"\n",
    "\n",
    "#print(\"Beginning Data Retrieval\")\n",
    "#print(\"-----------------------------\")\n",
    "for city in cities.iterrows(): \n",
    "    params = {\n",
    "        \"q\": city[1][0],\n",
    "        \"appid\": weather_api_key,\n",
    "        \"units\": 'imperial',\n",
    "    }\n",
    "    \n",
    "    print(f\"City : {city[1][0]}\")\n",
    "    #print(f\"City Number : {id}\")\n",
    "    results = requests.get(url, params=params).json()\n",
    "    weather_results.append(results)\n",
    "    time.sleep(1.5)"
   ]
  },
  {
   "cell_type": "code",
   "execution_count": 43,
   "metadata": {},
   "outputs": [],
   "source": [
    "#THIS DOESN'T WORK. STR ATTRIBUTE ERRORS but i don't understand why\n",
    "#id=[]\n",
    "#cityName=[]\n",
    "#cloudiness=[]\n",
    "#country=[]\n",
    "#date=[]\n",
    "#humidity=[]\n",
    "#long=[]\n",
    "#lat=[]\n",
    "#temp=[]\n",
    "#max_temp =[]\n",
    "#wind_speed=[]\n",
    "#counter=0\n",
    "#units = \"imperial\"\n",
    "#url = \"http://api.openweathermap.org/data/2.5/weather?\"\n",
    "#query_url = f\"{url}appid={weather_api_key}&units={units}&q=\"\n",
    "#weather_data = requests.get(query_url + city).json()\n",
    "\n",
    "#for city in cities:\n",
    " #       weather_data = requests.get(query_url + city).json()\n",
    " #       #weather_data = response.json()\n",
    " #       id.append(counter)\n",
    " #       cityName.append(weather_data['name'])\n",
    " #       cloudiness.append(weather_data['weather'][counter]['description'])\n",
    " #       cloudiness_number.append(weather_data['clouds']['all'])\n",
    " #       country.append(weather_data['sys']['country'])\n",
    " #       date.append(weather_data['dt'])\n",
    " #       humidity.append(weather_data['main']['humidity'])\n",
    " #       long.append(weather_data['coord']['lon'])\n",
    " #       lat.append(weather_data['coord']['lat'])\n",
    " #       temp.append(weather_data['main']['temp'])\n",
    " #       max_temp.append(weather_data['main']['temp_max'])\n",
    " #       wind_speed.append(weather_data['wind']['speed'])\n",
    " #       time.sleep(1.5)\n",
    " #       counter+=1\n",
    "\n",
    "#except KeyError:\n",
    " #       print(\"skip error\")\n",
    "\n",
    "#print(f\"The city name is: {city}\")\n",
    "#print(f\"The city number is: {city_number}\")\n"
   ]
  },
  {
   "cell_type": "markdown",
   "metadata": {},
   "source": [
    "### Convert Raw Data to DataFrame\n",
    "* Export the city data into a .csv.\n",
    "* Display the DataFrame"
   ]
  },
  {
   "cell_type": "code",
   "execution_count": 12,
   "metadata": {},
   "outputs": [
    {
     "data": {
      "text/plain": [
       "0         punta arenas\n",
       "1                 lebu\n",
       "2              mataura\n",
       "3              aklavik\n",
       "4              rikitea\n",
       "            ...       \n",
       "593    lazaro cardenas\n",
       "594             sangar\n",
       "595             xuddur\n",
       "596            yenagoa\n",
       "597       ballyshannon\n",
       "Name: 0, Length: 598, dtype: object"
      ]
     },
     "execution_count": 12,
     "metadata": {},
     "output_type": "execute_result"
    }
   ],
   "source": [
    "cities[0]"
   ]
  },
  {
   "cell_type": "code",
   "execution_count": 5,
   "metadata": {},
   "outputs": [
    {
     "data": {
      "text/html": [
       "<div>\n",
       "<style scoped>\n",
       "    .dataframe tbody tr th:only-of-type {\n",
       "        vertical-align: middle;\n",
       "    }\n",
       "\n",
       "    .dataframe tbody tr th {\n",
       "        vertical-align: top;\n",
       "    }\n",
       "\n",
       "    .dataframe thead th {\n",
       "        text-align: right;\n",
       "    }\n",
       "</style>\n",
       "<table border=\"1\" class=\"dataframe\">\n",
       "  <thead>\n",
       "    <tr style=\"text-align: right;\">\n",
       "      <th></th>\n",
       "      <th>coord</th>\n",
       "      <th>weather</th>\n",
       "      <th>base</th>\n",
       "      <th>main</th>\n",
       "      <th>wind</th>\n",
       "      <th>snow</th>\n",
       "      <th>clouds</th>\n",
       "      <th>dt</th>\n",
       "      <th>sys</th>\n",
       "      <th>timezone</th>\n",
       "      <th>id</th>\n",
       "      <th>name</th>\n",
       "      <th>cod</th>\n",
       "      <th>visibility</th>\n",
       "      <th>rain</th>\n",
       "      <th>message</th>\n",
       "    </tr>\n",
       "  </thead>\n",
       "  <tbody>\n",
       "    <tr>\n",
       "      <td>0</td>\n",
       "      <td>{'lon': 81.47, 'lat': 50.99}</td>\n",
       "      <td>[{'id': 600, 'main': 'Snow', 'description': 'l...</td>\n",
       "      <td>model</td>\n",
       "      <td>{'temp': 6.46, 'feels_like': -8.55, 'temp_min'...</td>\n",
       "      <td>{'speed': 15.84, 'deg': 260}</td>\n",
       "      <td>{'3h': 0.38}</td>\n",
       "      <td>{'all': 100}</td>\n",
       "      <td>1.580252e+09</td>\n",
       "      <td>{'country': 'RU', 'sunrise': 1580264180, 'suns...</td>\n",
       "      <td>25200.0</td>\n",
       "      <td>1506260.0</td>\n",
       "      <td>Gornyak</td>\n",
       "      <td>200</td>\n",
       "      <td>NaN</td>\n",
       "      <td>NaN</td>\n",
       "      <td>NaN</td>\n",
       "    </tr>\n",
       "    <tr>\n",
       "      <td>1</td>\n",
       "      <td>{'lon': -147.72, 'lat': 64.84}</td>\n",
       "      <td>[{'id': 800, 'main': 'Clear', 'description': '...</td>\n",
       "      <td>stations</td>\n",
       "      <td>{'temp': -22.4, 'feels_like': -31.22, 'temp_mi...</td>\n",
       "      <td>{'speed': 3.27, 'deg': 19}</td>\n",
       "      <td>NaN</td>\n",
       "      <td>{'all': 1}</td>\n",
       "      <td>1.580252e+09</td>\n",
       "      <td>{'type': 1, 'id': 7684, 'country': 'US', 'sunr...</td>\n",
       "      <td>-32400.0</td>\n",
       "      <td>5861897.0</td>\n",
       "      <td>Fairbanks</td>\n",
       "      <td>200</td>\n",
       "      <td>16093.0</td>\n",
       "      <td>NaN</td>\n",
       "      <td>NaN</td>\n",
       "    </tr>\n",
       "    <tr>\n",
       "      <td>2</td>\n",
       "      <td>{'lon': -165.41, 'lat': 64.5}</td>\n",
       "      <td>[{'id': 800, 'main': 'Clear', 'description': '...</td>\n",
       "      <td>stations</td>\n",
       "      <td>{'temp': -18.4, 'feels_like': -28.62, 'temp_mi...</td>\n",
       "      <td>{'speed': 5.82, 'deg': 20}</td>\n",
       "      <td>NaN</td>\n",
       "      <td>{'all': 1}</td>\n",
       "      <td>1.580252e+09</td>\n",
       "      <td>{'type': 1, 'id': 7770, 'country': 'US', 'sunr...</td>\n",
       "      <td>-32400.0</td>\n",
       "      <td>5870133.0</td>\n",
       "      <td>Nome</td>\n",
       "      <td>200</td>\n",
       "      <td>16093.0</td>\n",
       "      <td>NaN</td>\n",
       "      <td>NaN</td>\n",
       "    </tr>\n",
       "    <tr>\n",
       "      <td>3</td>\n",
       "      <td>{'lon': 45.76, 'lat': 64.9}</td>\n",
       "      <td>[{'id': 801, 'main': 'Clouds', 'description': ...</td>\n",
       "      <td>model</td>\n",
       "      <td>{'temp': -7.53, 'feels_like': -16.65, 'temp_mi...</td>\n",
       "      <td>{'speed': 4.47, 'deg': 188}</td>\n",
       "      <td>NaN</td>\n",
       "      <td>{'all': 21}</td>\n",
       "      <td>1.580252e+09</td>\n",
       "      <td>{'country': 'RU', 'sunrise': 1580277341, 'suns...</td>\n",
       "      <td>10800.0</td>\n",
       "      <td>535839.0</td>\n",
       "      <td>Leshukonskoye</td>\n",
       "      <td>200</td>\n",
       "      <td>NaN</td>\n",
       "      <td>NaN</td>\n",
       "      <td>NaN</td>\n",
       "    </tr>\n",
       "    <tr>\n",
       "      <td>4</td>\n",
       "      <td>{'lon': 15.74, 'lat': -12.78}</td>\n",
       "      <td>[{'id': 500, 'main': 'Rain', 'description': 'l...</td>\n",
       "      <td>model</td>\n",
       "      <td>{'temp': 60.71, 'feels_like': 62.51, 'temp_min...</td>\n",
       "      <td>{'speed': 2.15, 'deg': 109}</td>\n",
       "      <td>NaN</td>\n",
       "      <td>{'all': 100}</td>\n",
       "      <td>1.580252e+09</td>\n",
       "      <td>{'country': 'AO', 'sunrise': 1580186933, 'suns...</td>\n",
       "      <td>3600.0</td>\n",
       "      <td>3348313.0</td>\n",
       "      <td>Huambo</td>\n",
       "      <td>200</td>\n",
       "      <td>NaN</td>\n",
       "      <td>{'3h': 1.06}</td>\n",
       "      <td>NaN</td>\n",
       "    </tr>\n",
       "  </tbody>\n",
       "</table>\n",
       "</div>"
      ],
      "text/plain": [
       "                            coord  \\\n",
       "0    {'lon': 81.47, 'lat': 50.99}   \n",
       "1  {'lon': -147.72, 'lat': 64.84}   \n",
       "2   {'lon': -165.41, 'lat': 64.5}   \n",
       "3     {'lon': 45.76, 'lat': 64.9}   \n",
       "4   {'lon': 15.74, 'lat': -12.78}   \n",
       "\n",
       "                                             weather      base  \\\n",
       "0  [{'id': 600, 'main': 'Snow', 'description': 'l...     model   \n",
       "1  [{'id': 800, 'main': 'Clear', 'description': '...  stations   \n",
       "2  [{'id': 800, 'main': 'Clear', 'description': '...  stations   \n",
       "3  [{'id': 801, 'main': 'Clouds', 'description': ...     model   \n",
       "4  [{'id': 500, 'main': 'Rain', 'description': 'l...     model   \n",
       "\n",
       "                                                main  \\\n",
       "0  {'temp': 6.46, 'feels_like': -8.55, 'temp_min'...   \n",
       "1  {'temp': -22.4, 'feels_like': -31.22, 'temp_mi...   \n",
       "2  {'temp': -18.4, 'feels_like': -28.62, 'temp_mi...   \n",
       "3  {'temp': -7.53, 'feels_like': -16.65, 'temp_mi...   \n",
       "4  {'temp': 60.71, 'feels_like': 62.51, 'temp_min...   \n",
       "\n",
       "                           wind          snow        clouds            dt  \\\n",
       "0  {'speed': 15.84, 'deg': 260}  {'3h': 0.38}  {'all': 100}  1.580252e+09   \n",
       "1    {'speed': 3.27, 'deg': 19}           NaN    {'all': 1}  1.580252e+09   \n",
       "2    {'speed': 5.82, 'deg': 20}           NaN    {'all': 1}  1.580252e+09   \n",
       "3   {'speed': 4.47, 'deg': 188}           NaN   {'all': 21}  1.580252e+09   \n",
       "4   {'speed': 2.15, 'deg': 109}           NaN  {'all': 100}  1.580252e+09   \n",
       "\n",
       "                                                 sys  timezone         id  \\\n",
       "0  {'country': 'RU', 'sunrise': 1580264180, 'suns...   25200.0  1506260.0   \n",
       "1  {'type': 1, 'id': 7684, 'country': 'US', 'sunr...  -32400.0  5861897.0   \n",
       "2  {'type': 1, 'id': 7770, 'country': 'US', 'sunr...  -32400.0  5870133.0   \n",
       "3  {'country': 'RU', 'sunrise': 1580277341, 'suns...   10800.0   535839.0   \n",
       "4  {'country': 'AO', 'sunrise': 1580186933, 'suns...    3600.0  3348313.0   \n",
       "\n",
       "            name  cod  visibility          rain message  \n",
       "0        Gornyak  200         NaN           NaN     NaN  \n",
       "1      Fairbanks  200     16093.0           NaN     NaN  \n",
       "2           Nome  200     16093.0           NaN     NaN  \n",
       "3  Leshukonskoye  200         NaN           NaN     NaN  \n",
       "4         Huambo  200         NaN  {'3h': 1.06}     NaN  "
      ]
     },
     "execution_count": 5,
     "metadata": {},
     "output_type": "execute_result"
    }
   ],
   "source": [
    "weather_results_df = pd.DataFrame(weather_results)\n",
    "weather_results_df.to_csv('Weather_output.csv')\n",
    "weather_results_df = weather_results_df.dropna(how=\"all\")\n",
    "weather_results_df.head()\n"
   ]
  },
  {
   "cell_type": "markdown",
   "metadata": {},
   "source": [
    "### Plotting the Data\n",
    "* Use proper labeling of the plots using plot titles (including date of analysis) and axes labels.\n",
    "* Save the plotted figures as .pngs."
   ]
  },
  {
   "cell_type": "markdown",
   "metadata": {},
   "source": [
    "#### Latitude vs. Temperature Plot"
   ]
  },
  {
   "cell_type": "code",
   "execution_count": 6,
   "metadata": {
    "scrolled": true
   },
   "outputs": [
    {
     "data": {
      "image/png": "[encoded data removed]",
      "text/plain": [
       "<Figure size 432x288 with 1 Axes>"
      ]
     },
     "metadata": {
      "needs_background": "light"
     },
     "output_type": "display_data"
    }
   ],
   "source": [
    "# Create a Scatter Plot for temperature vs latitude\n",
    "x=[]\n",
    "y=[]\n",
    "\n",
    "for index, weatherstuff in weather_results_df.iterrows():\n",
    "    try:\n",
    "        x.append(weather_results_df['main'][index]['temp'])\n",
    "        y.append(weather_results_df['coord'][index]['lat'])\n",
    "    except Exception:\n",
    "        continue\n",
    "        \n",
    "plt.scatter(x, y, marker=\"o\")\n",
    "plt.xlabel('Temperature')\n",
    "plt.ylabel('Latitude')\n",
    "plt.title(\"Latitude and Temperature in Various Cities\")\n",
    "plt.grid()\n",
    "plt.savefig(\"Latitude and Temperature in Various Cities.png\")\n",
    "plt.show()"
   ]
  },
  {
   "cell_type": "markdown",
   "metadata": {},
   "source": [
    "#### Latitude vs. Humidity Plot"
   ]
  },
  {
   "cell_type": "code",
   "execution_count": 7,
   "metadata": {},
   "outputs": [
    {
     "data": {
      "image/png": "[encoded data removed]",
      "text/plain": [
       "<Figure size 432x288 with 1 Axes>"
      ]
     },
     "metadata": {
      "needs_background": "light"
     },
     "output_type": "display_data"
    },
    {
     "data": {
      "text/plain": [
       "<Figure size 432x288 with 0 Axes>"
      ]
     },
     "metadata": {},
     "output_type": "display_data"
    }
   ],
   "source": [
    "# Build a scatter plot for each data type\n",
    "x=[]\n",
    "y=[]\n",
    "\n",
    "for index, weatherstuff in weather_results_df.iterrows():\n",
    "    try:\n",
    "        x.append(weather_results_df['main'][index]['humidity'])\n",
    "        y.append(weather_results_df['coord'][index]['lat'])\n",
    "    except Exception:\n",
    "        continue\n",
    "        \n",
    "plt.scatter(x, y, marker=\"o\")\n",
    "plt.xlabel('Humidity')\n",
    "plt.ylabel('Latitude')\n",
    "plt.title(\"Humidity in Various Cities\")\n",
    "plt.grid()\n",
    "plt.show()\n",
    "plt.savefig(\"Humidity in Various Cities.png\")\n",
    "plt.show()"
   ]
  },
  {
   "cell_type": "markdown",
   "metadata": {},
   "source": [
    "#### Latitude vs. Cloudiness Plot"
   ]
  },
  {
   "cell_type": "code",
   "execution_count": 8,
   "metadata": {
    "scrolled": true
   },
   "outputs": [
    {
     "data": {
      "image/png": "[encoded data removed]",
      "text/plain": [
       "<Figure size 432x288 with 1 Axes>"
      ]
     },
     "metadata": {
      "needs_background": "light"
     },
     "output_type": "display_data"
    }
   ],
   "source": [
    "# Build a scatter plot for each data type\n",
    "x=[]\n",
    "y=[]\n",
    "\n",
    "for index, weatherstuff in weather_results_df.iterrows():\n",
    "    try:\n",
    "        x.append(weather_results_df['clouds'][index]['all'])\n",
    "        y.append(weather_results_df['coord'][index]['lat'])\n",
    "    except Exception:\n",
    "        continue\n",
    "        \n",
    "plt.scatter(x, y, marker=\"o\")\n",
    "plt.xlabel('Clouds')\n",
    "plt.ylabel('Latitude')\n",
    "plt.title(\"Cloudiness in Various Cities\")\n",
    "plt.grid\n",
    "plt.savefig(\"Cloudiness in Various Cities.png\")\n",
    "plt.show()\n"
   ]
  },
  {
   "cell_type": "markdown",
   "metadata": {},
   "source": [
    "#### Latitude vs. Wind Speed Plot"
   ]
  },
  {
   "cell_type": "code",
   "execution_count": 9,
   "metadata": {},
   "outputs": [
    {
     "data": {
      "image/png": "[encoded data removed]",
      "text/plain": [
       "<Figure size 432x288 with 1 Axes>"
      ]
     },
     "metadata": {
      "needs_background": "light"
     },
     "output_type": "display_data"
    }
   ],
   "source": [
    "# Build a scatter plot for each data type\n",
    "x=[]\n",
    "y=[]\n",
    "\n",
    "for index, weatherstuff in weather_results_df.iterrows():\n",
    "    try:\n",
    "        x.append(weather_results_df['wind'][index]['speed'])\n",
    "        y.append(weather_results_df['coord'][index]['lat'])\n",
    "    except Exception:\n",
    "        continue\n",
    "        \n",
    "plt.scatter(x, y, marker=\"o\")\n",
    "plt.xlabel('Wind Speed')\n",
    "plt.ylabel('Latitude')\n",
    "plt.title(\"Wind Speed in Various Cities\")\n",
    "plt.savefig(\"Wind Speed in Various Cities.png\")\n",
    "plt.grid()\n",
    "plt.show()\n"
   ]
  },
  {
   "cell_type": "markdown",
   "metadata": {},
   "source": [
    "## Linear Regression"
   ]
  },
  {
   "cell_type": "code",
   "execution_count": 10,
   "metadata": {},
   "outputs": [
    {
     "name": "stdout",
     "output_type": "stream",
     "text": [
      "The r-squared is: -0.8638877815946893\n"
     ]
    },
    {
     "data": {
      "image/png": "[encoded data removed]",
      "text/plain": [
       "<Figure size 432x288 with 1 Axes>"
      ]
     },
     "metadata": {
      "needs_background": "light"
     },
     "output_type": "display_data"
    }
   ],
   "source": [
    "# OPTIONAL: Create a function to create Linear Regression plots\n",
    "# Perform a linear regression on temperature vs. latitude\n",
    "\n",
    "x_values=[]\n",
    "y_values=[]\n",
    "\n",
    "for index, weatherstuff in weather_results_df.iterrows():\n",
    "    try:\n",
    "        x_values.append(weather_results_df['main'][index]['temp'])\n",
    "        y_values.append(weather_results_df['coord'][index]['lat'])\n",
    "    except Exception:\n",
    "        continue\n",
    "\n",
    "x_value_df = pd.DataFrame(x_values)\n",
    "\n",
    "#plt.scatter(x_values,y_values)\n",
    "(slope, intercept, rvalue, pvalue, stderr) = stats.linregress(x_values, y_values)\n",
    "\n",
    "# Get regression values \n",
    "regress_values = x_value_df * slope + intercept\n",
    "#print(regress_values)\n",
    "\n",
    "# Create line equation string\n",
    "line_eq = \"y = \" + str(round(slope,2)) + \"x +\" + str(round(intercept,2))\n",
    "#print(line_eq)\n",
    "\n",
    "# Create Plot\n",
    "plt.scatter(x_values, y_values)\n",
    "plt.plot(x_values,regress_values,\"r-\")\n",
    "\n",
    "# Label plot and annotate the line equation\n",
    "plt.xlabel('Temperature')\n",
    "plt.ylabel('Latitude')\n",
    "plt.title('Temperature v Lat')\n",
    "plt.annotate(line_eq,(20,15),fontsize=15,color=\"red\")\n",
    "\n",
    "# Print r square value\n",
    "print(f\"The r-squared is: {rvalue}\")\n",
    "\n",
    "#Show plot\n",
    "#plt.show()\n"
   ]
  },
  {
   "cell_type": "code",
   "execution_count": 11,
   "metadata": {},
   "outputs": [
    {
     "data": {
      "text/html": [
       "<div>\n",
       "<style scoped>\n",
       "    .dataframe tbody tr th:only-of-type {\n",
       "        vertical-align: middle;\n",
       "    }\n",
       "\n",
       "    .dataframe tbody tr th {\n",
       "        vertical-align: top;\n",
       "    }\n",
       "\n",
       "    .dataframe thead th {\n",
       "        text-align: right;\n",
       "    }\n",
       "</style>\n",
       "<table border=\"1\" class=\"dataframe\">\n",
       "  <thead>\n",
       "    <tr style=\"text-align: right;\">\n",
       "      <th></th>\n",
       "      <th>coord</th>\n",
       "      <th>weather</th>\n",
       "      <th>base</th>\n",
       "      <th>main</th>\n",
       "      <th>wind</th>\n",
       "      <th>snow</th>\n",
       "      <th>clouds</th>\n",
       "      <th>dt</th>\n",
       "      <th>sys</th>\n",
       "      <th>timezone</th>\n",
       "      <th>id</th>\n",
       "      <th>name</th>\n",
       "      <th>cod</th>\n",
       "      <th>visibility</th>\n",
       "      <th>rain</th>\n",
       "      <th>message</th>\n",
       "    </tr>\n",
       "  </thead>\n",
       "  <tbody>\n",
       "    <tr>\n",
       "      <td>0</td>\n",
       "      <td>{'lon': 81.47, 'lat': 50.99}</td>\n",
       "      <td>[{'id': 600, 'main': 'Snow', 'description': 'l...</td>\n",
       "      <td>model</td>\n",
       "      <td>{'temp': 6.46, 'feels_like': -8.55, 'temp_min'...</td>\n",
       "      <td>{'speed': 15.84, 'deg': 260}</td>\n",
       "      <td>{'3h': 0.38}</td>\n",
       "      <td>{'all': 100}</td>\n",
       "      <td>1.580252e+09</td>\n",
       "      <td>{'country': 'RU', 'sunrise': 1580264180, 'suns...</td>\n",
       "      <td>25200.0</td>\n",
       "      <td>1506260.0</td>\n",
       "      <td>Gornyak</td>\n",
       "      <td>200</td>\n",
       "      <td>NaN</td>\n",
       "      <td>NaN</td>\n",
       "      <td>NaN</td>\n",
       "    </tr>\n",
       "    <tr>\n",
       "      <td>1</td>\n",
       "      <td>{'lon': -147.72, 'lat': 64.84}</td>\n",
       "      <td>[{'id': 800, 'main': 'Clear', 'description': '...</td>\n",
       "      <td>stations</td>\n",
       "      <td>{'temp': -22.4, 'feels_like': -31.22, 'temp_mi...</td>\n",
       "      <td>{'speed': 3.27, 'deg': 19}</td>\n",
       "      <td>NaN</td>\n",
       "      <td>{'all': 1}</td>\n",
       "      <td>1.580252e+09</td>\n",
       "      <td>{'type': 1, 'id': 7684, 'country': 'US', 'sunr...</td>\n",
       "      <td>-32400.0</td>\n",
       "      <td>5861897.0</td>\n",
       "      <td>Fairbanks</td>\n",
       "      <td>200</td>\n",
       "      <td>16093.0</td>\n",
       "      <td>NaN</td>\n",
       "      <td>NaN</td>\n",
       "    </tr>\n",
       "    <tr>\n",
       "      <td>2</td>\n",
       "      <td>{'lon': -165.41, 'lat': 64.5}</td>\n",
       "      <td>[{'id': 800, 'main': 'Clear', 'description': '...</td>\n",
       "      <td>stations</td>\n",
       "      <td>{'temp': -18.4, 'feels_like': -28.62, 'temp_mi...</td>\n",
       "      <td>{'speed': 5.82, 'deg': 20}</td>\n",
       "      <td>NaN</td>\n",
       "      <td>{'all': 1}</td>\n",
       "      <td>1.580252e+09</td>\n",
       "      <td>{'type': 1, 'id': 7770, 'country': 'US', 'sunr...</td>\n",
       "      <td>-32400.0</td>\n",
       "      <td>5870133.0</td>\n",
       "      <td>Nome</td>\n",
       "      <td>200</td>\n",
       "      <td>16093.0</td>\n",
       "      <td>NaN</td>\n",
       "      <td>NaN</td>\n",
       "    </tr>\n",
       "    <tr>\n",
       "      <td>3</td>\n",
       "      <td>{'lon': 45.76, 'lat': 64.9}</td>\n",
       "      <td>[{'id': 801, 'main': 'Clouds', 'description': ...</td>\n",
       "      <td>model</td>\n",
       "      <td>{'temp': -7.53, 'feels_like': -16.65, 'temp_mi...</td>\n",
       "      <td>{'speed': 4.47, 'deg': 188}</td>\n",
       "      <td>NaN</td>\n",
       "      <td>{'all': 21}</td>\n",
       "      <td>1.580252e+09</td>\n",
       "      <td>{'country': 'RU', 'sunrise': 1580277341, 'suns...</td>\n",
       "      <td>10800.0</td>\n",
       "      <td>535839.0</td>\n",
       "      <td>Leshukonskoye</td>\n",
       "      <td>200</td>\n",
       "      <td>NaN</td>\n",
       "      <td>NaN</td>\n",
       "      <td>NaN</td>\n",
       "    </tr>\n",
       "    <tr>\n",
       "      <td>6</td>\n",
       "      <td>{'lon': 128.87, 'lat': 71.69}</td>\n",
       "      <td>[{'id': 804, 'main': 'Clouds', 'description': ...</td>\n",
       "      <td>model</td>\n",
       "      <td>{'temp': -20.56, 'feels_like': -30.51, 'temp_m...</td>\n",
       "      <td>{'speed': 5.39, 'deg': 207}</td>\n",
       "      <td>NaN</td>\n",
       "      <td>{'all': 98}</td>\n",
       "      <td>1.580252e+09</td>\n",
       "      <td>{'country': 'RU', 'sunrise': 1580264381, 'suns...</td>\n",
       "      <td>32400.0</td>\n",
       "      <td>2015306.0</td>\n",
       "      <td>Tiksi</td>\n",
       "      <td>200</td>\n",
       "      <td>NaN</td>\n",
       "      <td>NaN</td>\n",
       "      <td>NaN</td>\n",
       "    </tr>\n",
       "    <tr>\n",
       "      <td>7</td>\n",
       "      <td>{'lon': 170.31, 'lat': 69.7}</td>\n",
       "      <td>[{'id': 600, 'main': 'Snow', 'description': 'l...</td>\n",
       "      <td>model</td>\n",
       "      <td>{'temp': -7.58, 'feels_like': -21.21, 'temp_mi...</td>\n",
       "      <td>{'speed': 12.5, 'deg': 322}</td>\n",
       "      <td>{'3h': 0.19}</td>\n",
       "      <td>{'all': 100}</td>\n",
       "      <td>1.580252e+09</td>\n",
       "      <td>{'country': 'RU', 'sunrise': 1580251329, 'suns...</td>\n",
       "      <td>43200.0</td>\n",
       "      <td>2122090.0</td>\n",
       "      <td>Pevek</td>\n",
       "      <td>200</td>\n",
       "      <td>NaN</td>\n",
       "      <td>NaN</td>\n",
       "      <td>NaN</td>\n",
       "    </tr>\n",
       "    <tr>\n",
       "      <td>10</td>\n",
       "      <td>{'lon': 100.34, 'lat': 5.41}</td>\n",
       "      <td>[{'id': 801, 'main': 'Clouds', 'description': ...</td>\n",
       "      <td>stations</td>\n",
       "      <td>{'temp': 80.73, 'feels_like': 90.48, 'temp_min...</td>\n",
       "      <td>{'speed': 1.12}</td>\n",
       "      <td>NaN</td>\n",
       "      <td>{'all': 20}</td>\n",
       "      <td>1.580252e+09</td>\n",
       "      <td>{'type': 1, 'id': 9438, 'country': 'MY', 'sunr...</td>\n",
       "      <td>28800.0</td>\n",
       "      <td>1735106.0</td>\n",
       "      <td>George Town</td>\n",
       "      <td>200</td>\n",
       "      <td>9000.0</td>\n",
       "      <td>NaN</td>\n",
       "      <td>NaN</td>\n",
       "    </tr>\n",
       "    <tr>\n",
       "      <td>11</td>\n",
       "      <td>{'lon': 146.42, 'lat': 68.53}</td>\n",
       "      <td>[{'id': 803, 'main': 'Clouds', 'description': ...</td>\n",
       "      <td>model</td>\n",
       "      <td>{'temp': -28.82, 'feels_like': -39.86, 'temp_m...</td>\n",
       "      <td>{'speed': 7.09, 'deg': 198}</td>\n",
       "      <td>NaN</td>\n",
       "      <td>{'all': 76}</td>\n",
       "      <td>1.580252e+09</td>\n",
       "      <td>{'country': 'RU', 'sunrise': 1580255828, 'suns...</td>\n",
       "      <td>39600.0</td>\n",
       "      <td>2126785.0</td>\n",
       "      <td>Belaya Gora</td>\n",
       "      <td>200</td>\n",
       "      <td>NaN</td>\n",
       "      <td>NaN</td>\n",
       "      <td>NaN</td>\n",
       "    </tr>\n",
       "    <tr>\n",
       "      <td>13</td>\n",
       "      <td>{'lon': 59.53, 'lat': 22.57}</td>\n",
       "      <td>[{'id': 800, 'main': 'Clear', 'description': '...</td>\n",
       "      <td>model</td>\n",
       "      <td>{'temp': 62.74, 'feels_like': 54.73, 'temp_min...</td>\n",
       "      <td>{'speed': 10.85, 'deg': 338}</td>\n",
       "      <td>NaN</td>\n",
       "      <td>{'all': 0}</td>\n",
       "      <td>1.580252e+09</td>\n",
       "      <td>{'country': 'OM', 'sunrise': 1580265732, 'suns...</td>\n",
       "      <td>14400.0</td>\n",
       "      <td>286245.0</td>\n",
       "      <td>Sur</td>\n",
       "      <td>200</td>\n",
       "      <td>NaN</td>\n",
       "      <td>NaN</td>\n",
       "      <td>NaN</td>\n",
       "    </tr>\n",
       "    <tr>\n",
       "      <td>15</td>\n",
       "      <td>{'lon': -96.67, 'lat': 40.8}</td>\n",
       "      <td>[{'id': 804, 'main': 'Clouds', 'description': ...</td>\n",
       "      <td>stations</td>\n",
       "      <td>{'temp': 29.19, 'feels_like': 22.89, 'temp_min...</td>\n",
       "      <td>{'speed': 3.36, 'deg': 30}</td>\n",
       "      <td>NaN</td>\n",
       "      <td>{'all': 90}</td>\n",
       "      <td>1.580252e+09</td>\n",
       "      <td>{'type': 1, 'id': 3248, 'country': 'US', 'sunr...</td>\n",
       "      <td>-21600.0</td>\n",
       "      <td>5072006.0</td>\n",
       "      <td>Lincoln</td>\n",
       "      <td>200</td>\n",
       "      <td>16093.0</td>\n",
       "      <td>NaN</td>\n",
       "      <td>NaN</td>\n",
       "    </tr>\n",
       "    <tr>\n",
       "      <td>17</td>\n",
       "      <td>{'lon': 131.17, 'lat': 62.67}</td>\n",
       "      <td>[{'id': 800, 'main': 'Clear', 'description': '...</td>\n",
       "      <td>model</td>\n",
       "      <td>{'temp': -30.69, 'feels_like': -40.11, 'temp_m...</td>\n",
       "      <td>{'speed': 4.25, 'deg': 134}</td>\n",
       "      <td>NaN</td>\n",
       "      <td>{'all': 0}</td>\n",
       "      <td>1.580252e+09</td>\n",
       "      <td>{'country': 'RU', 'sunrise': 1580255769, 'suns...</td>\n",
       "      <td>32400.0</td>\n",
       "      <td>2026160.0</td>\n",
       "      <td>Borogontsy</td>\n",
       "      <td>200</td>\n",
       "      <td>NaN</td>\n",
       "      <td>NaN</td>\n",
       "      <td>NaN</td>\n",
       "    </tr>\n",
       "    <tr>\n",
       "      <td>18</td>\n",
       "      <td>{'lon': -88.84, 'lat': 43.46}</td>\n",
       "      <td>[{'id': 804, 'main': 'Clouds', 'description': ...</td>\n",
       "      <td>stations</td>\n",
       "      <td>{'temp': 26.28, 'feels_like': 19.45, 'temp_min...</td>\n",
       "      <td>{'speed': 3.36, 'deg': 350}</td>\n",
       "      <td>NaN</td>\n",
       "      <td>{'all': 90}</td>\n",
       "      <td>1.580252e+09</td>\n",
       "      <td>{'type': 1, 'id': 6140, 'country': 'US', 'sunr...</td>\n",
       "      <td>-21600.0</td>\n",
       "      <td>5245193.0</td>\n",
       "      <td>Beaver Dam</td>\n",
       "      <td>200</td>\n",
       "      <td>16093.0</td>\n",
       "      <td>NaN</td>\n",
       "      <td>NaN</td>\n",
       "    </tr>\n",
       "    <tr>\n",
       "      <td>20</td>\n",
       "      <td>{'lon': 13.16, 'lat': 11.85}</td>\n",
       "      <td>[{'id': 800, 'main': 'Clear', 'description': '...</td>\n",
       "      <td>model</td>\n",
       "      <td>{'temp': 62.38, 'feels_like': 53.02, 'temp_min...</td>\n",
       "      <td>{'speed': 7.07, 'deg': 3}</td>\n",
       "      <td>NaN</td>\n",
       "      <td>{'all': 7}</td>\n",
       "      <td>1.580252e+09</td>\n",
       "      <td>{'country': 'NG', 'sunrise': 1580189546, 'suns...</td>\n",
       "      <td>3600.0</td>\n",
       "      <td>2331447.0</td>\n",
       "      <td>Maiduguri</td>\n",
       "      <td>200</td>\n",
       "      <td>NaN</td>\n",
       "      <td>NaN</td>\n",
       "      <td>NaN</td>\n",
       "    </tr>\n",
       "    <tr>\n",
       "      <td>22</td>\n",
       "      <td>{'lon': 123.37, 'lat': 66.77}</td>\n",
       "      <td>[{'id': 600, 'main': 'Snow', 'description': 'l...</td>\n",
       "      <td>model</td>\n",
       "      <td>{'temp': -20.29, 'feels_like': -40.11, 'temp_m...</td>\n",
       "      <td>{'speed': 22.97, 'deg': 170}</td>\n",
       "      <td>{'3h': 0.44}</td>\n",
       "      <td>{'all': 100}</td>\n",
       "      <td>1.580251e+09</td>\n",
       "      <td>{'country': 'RU', 'sunrise': 1580259928, 'suns...</td>\n",
       "      <td>32400.0</td>\n",
       "      <td>2012530.0</td>\n",
       "      <td>Zhigansk</td>\n",
       "      <td>200</td>\n",
       "      <td>NaN</td>\n",
       "      <td>NaN</td>\n",
       "      <td>NaN</td>\n",
       "    </tr>\n",
       "    <tr>\n",
       "      <td>25</td>\n",
       "      <td>{'lon': 31.11, 'lat': 70.37}</td>\n",
       "      <td>[{'id': 741, 'main': 'Fog', 'description': 'fo...</td>\n",
       "      <td>stations</td>\n",
       "      <td>{'temp': 10.4, 'feels_like': 1.15, 'temp_min':...</td>\n",
       "      <td>{'speed': 5.82, 'deg': 360}</td>\n",
       "      <td>NaN</td>\n",
       "      <td>{'all': 75}</td>\n",
       "      <td>1.580252e+09</td>\n",
       "      <td>{'type': 1, 'id': 1682, 'country': 'NO', 'sunr...</td>\n",
       "      <td>3600.0</td>\n",
       "      <td>777019.0</td>\n",
       "      <td>Vardo</td>\n",
       "      <td>200</td>\n",
       "      <td>10000.0</td>\n",
       "      <td>NaN</td>\n",
       "      <td>NaN</td>\n",
       "    </tr>\n",
       "    <tr>\n",
       "      <td>26</td>\n",
       "      <td>{'lon': -124.16, 'lat': 40.6}</td>\n",
       "      <td>[{'id': 804, 'main': 'Clouds', 'description': ...</td>\n",
       "      <td>stations</td>\n",
       "      <td>{'temp': 55.9, 'feels_like': 52.3, 'temp_min':...</td>\n",
       "      <td>{'speed': 5.82, 'deg': 230}</td>\n",
       "      <td>NaN</td>\n",
       "      <td>{'all': 90}</td>\n",
       "      <td>1.580252e+09</td>\n",
       "      <td>{'type': 1, 'id': 3217, 'country': 'US', 'sunr...</td>\n",
       "      <td>-28800.0</td>\n",
       "      <td>5563839.0</td>\n",
       "      <td>Fortuna</td>\n",
       "      <td>200</td>\n",
       "      <td>12874.0</td>\n",
       "      <td>NaN</td>\n",
       "      <td>NaN</td>\n",
       "    </tr>\n",
       "    <tr>\n",
       "      <td>27</td>\n",
       "      <td>{'lon': 36.7, 'lat': 1.1}</td>\n",
       "      <td>[{'id': 500, 'main': 'Rain', 'description': 'l...</td>\n",
       "      <td>model</td>\n",
       "      <td>{'temp': 64.24, 'feels_like': 62.69, 'temp_min...</td>\n",
       "      <td>{'speed': 7.45, 'deg': 109}</td>\n",
       "      <td>NaN</td>\n",
       "      <td>{'all': 100}</td>\n",
       "      <td>1.580252e+09</td>\n",
       "      <td>{'country': 'KE', 'sunrise': 1580269442, 'suns...</td>\n",
       "      <td>10800.0</td>\n",
       "      <td>187725.0</td>\n",
       "      <td>Maralal</td>\n",
       "      <td>200</td>\n",
       "      <td>NaN</td>\n",
       "      <td>{'3h': 0.13}</td>\n",
       "      <td>NaN</td>\n",
       "    </tr>\n",
       "    <tr>\n",
       "      <td>28</td>\n",
       "      <td>{'lon': -156.47, 'lat': 20.89}</td>\n",
       "      <td>[{'id': 801, 'main': 'Clouds', 'description': ...</td>\n",
       "      <td>stations</td>\n",
       "      <td>{'temp': 77.95, 'feels_like': 74.75, 'temp_min...</td>\n",
       "      <td>{'speed': 13.87, 'deg': 40}</td>\n",
       "      <td>NaN</td>\n",
       "      <td>{'all': 20}</td>\n",
       "      <td>1.580252e+09</td>\n",
       "      <td>{'type': 1, 'id': 7851, 'country': 'US', 'sunr...</td>\n",
       "      <td>-36000.0</td>\n",
       "      <td>5847411.0</td>\n",
       "      <td>Kahului</td>\n",
       "      <td>200</td>\n",
       "      <td>16093.0</td>\n",
       "      <td>NaN</td>\n",
       "      <td>NaN</td>\n",
       "    </tr>\n",
       "  </tbody>\n",
       "</table>\n",
       "</div>"
      ],
      "text/plain": [
       "                             coord  \\\n",
       "0     {'lon': 81.47, 'lat': 50.99}   \n",
       "1   {'lon': -147.72, 'lat': 64.84}   \n",
       "2    {'lon': -165.41, 'lat': 64.5}   \n",
       "3      {'lon': 45.76, 'lat': 64.9}   \n",
       "6    {'lon': 128.87, 'lat': 71.69}   \n",
       "7     {'lon': 170.31, 'lat': 69.7}   \n",
       "10    {'lon': 100.34, 'lat': 5.41}   \n",
       "11   {'lon': 146.42, 'lat': 68.53}   \n",
       "13    {'lon': 59.53, 'lat': 22.57}   \n",
       "15    {'lon': -96.67, 'lat': 40.8}   \n",
       "17   {'lon': 131.17, 'lat': 62.67}   \n",
       "18   {'lon': -88.84, 'lat': 43.46}   \n",
       "20    {'lon': 13.16, 'lat': 11.85}   \n",
       "22   {'lon': 123.37, 'lat': 66.77}   \n",
       "25    {'lon': 31.11, 'lat': 70.37}   \n",
       "26   {'lon': -124.16, 'lat': 40.6}   \n",
       "27       {'lon': 36.7, 'lat': 1.1}   \n",
       "28  {'lon': -156.47, 'lat': 20.89}   \n",
       "\n",
       "                                              weather      base  \\\n",
       "0   [{'id': 600, 'main': 'Snow', 'description': 'l...     model   \n",
       "1   [{'id': 800, 'main': 'Clear', 'description': '...  stations   \n",
       "2   [{'id': 800, 'main': 'Clear', 'description': '...  stations   \n",
       "3   [{'id': 801, 'main': 'Clouds', 'description': ...     model   \n",
       "6   [{'id': 804, 'main': 'Clouds', 'description': ...     model   \n",
       "7   [{'id': 600, 'main': 'Snow', 'description': 'l...     model   \n",
       "10  [{'id': 801, 'main': 'Clouds', 'description': ...  stations   \n",
       "11  [{'id': 803, 'main': 'Clouds', 'description': ...     model   \n",
       "13  [{'id': 800, 'main': 'Clear', 'description': '...     model   \n",
       "15  [{'id': 804, 'main': 'Clouds', 'description': ...  stations   \n",
       "17  [{'id': 800, 'main': 'Clear', 'description': '...     model   \n",
       "18  [{'id': 804, 'main': 'Clouds', 'description': ...  stations   \n",
       "20  [{'id': 800, 'main': 'Clear', 'description': '...     model   \n",
       "22  [{'id': 600, 'main': 'Snow', 'description': 'l...     model   \n",
       "25  [{'id': 741, 'main': 'Fog', 'description': 'fo...  stations   \n",
       "26  [{'id': 804, 'main': 'Clouds', 'description': ...  stations   \n",
       "27  [{'id': 500, 'main': 'Rain', 'description': 'l...     model   \n",
       "28  [{'id': 801, 'main': 'Clouds', 'description': ...  stations   \n",
       "\n",
       "                                                 main  \\\n",
       "0   {'temp': 6.46, 'feels_like': -8.55, 'temp_min'...   \n",
       "1   {'temp': -22.4, 'feels_like': -31.22, 'temp_mi...   \n",
       "2   {'temp': -18.4, 'feels_like': -28.62, 'temp_mi...   \n",
       "3   {'temp': -7.53, 'feels_like': -16.65, 'temp_mi...   \n",
       "6   {'temp': -20.56, 'feels_like': -30.51, 'temp_m...   \n",
       "7   {'temp': -7.58, 'feels_like': -21.21, 'temp_mi...   \n",
       "10  {'temp': 80.73, 'feels_like': 90.48, 'temp_min...   \n",
       "11  {'temp': -28.82, 'feels_like': -39.86, 'temp_m...   \n",
       "13  {'temp': 62.74, 'feels_like': 54.73, 'temp_min...   \n",
       "15  {'temp': 29.19, 'feels_like': 22.89, 'temp_min...   \n",
       "17  {'temp': -30.69, 'feels_like': -40.11, 'temp_m...   \n",
       "18  {'temp': 26.28, 'feels_like': 19.45, 'temp_min...   \n",
       "20  {'temp': 62.38, 'feels_like': 53.02, 'temp_min...   \n",
       "22  {'temp': -20.29, 'feels_like': -40.11, 'temp_m...   \n",
       "25  {'temp': 10.4, 'feels_like': 1.15, 'temp_min':...   \n",
       "26  {'temp': 55.9, 'feels_like': 52.3, 'temp_min':...   \n",
       "27  {'temp': 64.24, 'feels_like': 62.69, 'temp_min...   \n",
       "28  {'temp': 77.95, 'feels_like': 74.75, 'temp_min...   \n",
       "\n",
       "                            wind          snow        clouds            dt  \\\n",
       "0   {'speed': 15.84, 'deg': 260}  {'3h': 0.38}  {'all': 100}  1.580252e+09   \n",
       "1     {'speed': 3.27, 'deg': 19}           NaN    {'all': 1}  1.580252e+09   \n",
       "2     {'speed': 5.82, 'deg': 20}           NaN    {'all': 1}  1.580252e+09   \n",
       "3    {'speed': 4.47, 'deg': 188}           NaN   {'all': 21}  1.580252e+09   \n",
       "6    {'speed': 5.39, 'deg': 207}           NaN   {'all': 98}  1.580252e+09   \n",
       "7    {'speed': 12.5, 'deg': 322}  {'3h': 0.19}  {'all': 100}  1.580252e+09   \n",
       "10               {'speed': 1.12}           NaN   {'all': 20}  1.580252e+09   \n",
       "11   {'speed': 7.09, 'deg': 198}           NaN   {'all': 76}  1.580252e+09   \n",
       "13  {'speed': 10.85, 'deg': 338}           NaN    {'all': 0}  1.580252e+09   \n",
       "15    {'speed': 3.36, 'deg': 30}           NaN   {'all': 90}  1.580252e+09   \n",
       "17   {'speed': 4.25, 'deg': 134}           NaN    {'all': 0}  1.580252e+09   \n",
       "18   {'speed': 3.36, 'deg': 350}           NaN   {'all': 90}  1.580252e+09   \n",
       "20     {'speed': 7.07, 'deg': 3}           NaN    {'all': 7}  1.580252e+09   \n",
       "22  {'speed': 22.97, 'deg': 170}  {'3h': 0.44}  {'all': 100}  1.580251e+09   \n",
       "25   {'speed': 5.82, 'deg': 360}           NaN   {'all': 75}  1.580252e+09   \n",
       "26   {'speed': 5.82, 'deg': 230}           NaN   {'all': 90}  1.580252e+09   \n",
       "27   {'speed': 7.45, 'deg': 109}           NaN  {'all': 100}  1.580252e+09   \n",
       "28   {'speed': 13.87, 'deg': 40}           NaN   {'all': 20}  1.580252e+09   \n",
       "\n",
       "                                                  sys  timezone         id  \\\n",
       "0   {'country': 'RU', 'sunrise': 1580264180, 'suns...   25200.0  1506260.0   \n",
       "1   {'type': 1, 'id': 7684, 'country': 'US', 'sunr...  -32400.0  5861897.0   \n",
       "2   {'type': 1, 'id': 7770, 'country': 'US', 'sunr...  -32400.0  5870133.0   \n",
       "3   {'country': 'RU', 'sunrise': 1580277341, 'suns...   10800.0   535839.0   \n",
       "6   {'country': 'RU', 'sunrise': 1580264381, 'suns...   32400.0  2015306.0   \n",
       "7   {'country': 'RU', 'sunrise': 1580251329, 'suns...   43200.0  2122090.0   \n",
       "10  {'type': 1, 'id': 9438, 'country': 'MY', 'sunr...   28800.0  1735106.0   \n",
       "11  {'country': 'RU', 'sunrise': 1580255828, 'suns...   39600.0  2126785.0   \n",
       "13  {'country': 'OM', 'sunrise': 1580265732, 'suns...   14400.0   286245.0   \n",
       "15  {'type': 1, 'id': 3248, 'country': 'US', 'sunr...  -21600.0  5072006.0   \n",
       "17  {'country': 'RU', 'sunrise': 1580255769, 'suns...   32400.0  2026160.0   \n",
       "18  {'type': 1, 'id': 6140, 'country': 'US', 'sunr...  -21600.0  5245193.0   \n",
       "20  {'country': 'NG', 'sunrise': 1580189546, 'suns...    3600.0  2331447.0   \n",
       "22  {'country': 'RU', 'sunrise': 1580259928, 'suns...   32400.0  2012530.0   \n",
       "25  {'type': 1, 'id': 1682, 'country': 'NO', 'sunr...    3600.0   777019.0   \n",
       "26  {'type': 1, 'id': 3217, 'country': 'US', 'sunr...  -28800.0  5563839.0   \n",
       "27  {'country': 'KE', 'sunrise': 1580269442, 'suns...   10800.0   187725.0   \n",
       "28  {'type': 1, 'id': 7851, 'country': 'US', 'sunr...  -36000.0  5847411.0   \n",
       "\n",
       "             name  cod  visibility          rain  message  \n",
       "0         Gornyak  200         NaN           NaN      NaN  \n",
       "1       Fairbanks  200     16093.0           NaN      NaN  \n",
       "2            Nome  200     16093.0           NaN      NaN  \n",
       "3   Leshukonskoye  200         NaN           NaN      NaN  \n",
       "6           Tiksi  200         NaN           NaN      NaN  \n",
       "7           Pevek  200         NaN           NaN      NaN  \n",
       "10    George Town  200      9000.0           NaN      NaN  \n",
       "11    Belaya Gora  200         NaN           NaN      NaN  \n",
       "13            Sur  200         NaN           NaN      NaN  \n",
       "15        Lincoln  200     16093.0           NaN      NaN  \n",
       "17     Borogontsy  200         NaN           NaN      NaN  \n",
       "18     Beaver Dam  200     16093.0           NaN      NaN  \n",
       "20      Maiduguri  200         NaN           NaN      NaN  \n",
       "22       Zhigansk  200         NaN           NaN      NaN  \n",
       "25          Vardo  200     10000.0           NaN      NaN  \n",
       "26        Fortuna  200     12874.0           NaN      NaN  \n",
       "27        Maralal  200         NaN  {'3h': 0.13}      NaN  \n",
       "28        Kahului  200     16093.0           NaN      NaN  "
      ]
     },
     "execution_count": 11,
     "metadata": {},
     "output_type": "execute_result"
    }
   ],
   "source": [
    "# Create Northern and Southern Hemisphere DataFrames\n",
    "#weather_results_df['northern'] = \"\"\n",
    "#weather_results_df['southern'] = \"\"\n",
    "\n",
    "n = []\n",
    "s= []\n",
    "\n",
    "for index, weatherstuff in weather_results_df.iterrows():\n",
    "    try:\n",
    "        if weather_results_df['coord'][index]['lat']>0:\n",
    "            n.append(weatherstuff)\n",
    "        else:\n",
    "            s.append(weatherstuff)\n",
    "    except Exception:\n",
    "            continue\n",
    "#len(n)   \n",
    "northern_df = pd.DataFrame(n)\n",
    "southern_df = pd.DataFrame(s)\n",
    "northern_df"
   ]
  },
  {
   "cell_type": "markdown",
   "metadata": {},
   "source": [
    "####  Northern Hemisphere - Max Temp vs. Latitude Linear Regression"
   ]
  },
  {
   "cell_type": "code",
   "execution_count": 12,
   "metadata": {},
   "outputs": [
    {
     "data": {
      "image/png": "[encoded data removed]",
      "text/plain": [
       "<Figure size 432x288 with 1 Axes>"
      ]
     },
     "metadata": {
      "needs_background": "light"
     },
     "output_type": "display_data"
    }
   ],
   "source": [
    "x=[]\n",
    "y=[]\n",
    "\n",
    "for index, weatherstuff in northern_df.iterrows():\n",
    "    try:\n",
    "        x.append(northern_df['main'][index]['temp_max'])\n",
    "        y.append(northern_df['coord'][index]['lat'])\n",
    "    except Exception:\n",
    "        continue\n",
    "\n",
    "x_value_df = pd.DataFrame(x)        \n",
    "        \n",
    "(slope, intercept, rvalue, pvalue, stderr) = linregress(x, y)\n",
    "\n",
    "# Get regression values\n",
    "regress_values = x_value_df * slope + intercept\n",
    "#print(regress_values)\n",
    "\n",
    "\n",
    "# Create line equation string\n",
    "line_eq = \"y = \" + str(round(slope,2)) + \"x +\" + str(round(intercept,2))\n",
    "#print(line_eq)\n",
    "\n",
    "# Create Plot\n",
    "plt.scatter(x, y)\n",
    "plt.plot(x,regress_values,\"r-\")\n",
    "\n",
    "# Label plot and annotate the line equation\n",
    "plt.xlabel('Max Temperature')\n",
    "plt.ylabel('Latitude')\n",
    "plt.title('Northern Hemisphere Max Temp v Lat')\n",
    "plt.annotate(line_eq,(20,15),fontsize=15,color=\"red\")\n",
    "\n",
    "# Print r square value\n",
    "#print(f\"The r-squared is: {rvalue}\")\n",
    "\n",
    "# Show plot\n",
    "plt.show()\n",
    "\n",
    "\n"
   ]
  },
  {
   "cell_type": "markdown",
   "metadata": {},
   "source": [
    "####  Southern Hemisphere - Max Temp vs. Latitude Linear Regression"
   ]
  },
  {
   "cell_type": "code",
   "execution_count": 13,
   "metadata": {},
   "outputs": [
    {
     "data": {
      "image/png": "[encoded data removed]",
      "text/plain": [
       "<Figure size 432x288 with 1 Axes>"
      ]
     },
     "metadata": {
      "needs_background": "light"
     },
     "output_type": "display_data"
    }
   ],
   "source": [
    "x=[]\n",
    "y=[]\n",
    "\n",
    "for index, weatherstuff in southern_df.iterrows():\n",
    "    try:\n",
    "        x.append(southern_df['main'][index]['temp_max'])\n",
    "        y.append(southern_df['coord'][index]['lat'])\n",
    "    except Exception:\n",
    "        continue\n",
    "\n",
    "x_value_df = pd.DataFrame(x)        \n",
    "        \n",
    "(slope, intercept, rvalue, pvalue, stderr) = linregress(x, y)\n",
    "\n",
    "# Get regression values\n",
    "regress_values = x_value_df * slope + intercept\n",
    "#print(regress_values)\n",
    "\n",
    "\n",
    "# Create line equation string\n",
    "line_eq = \"y = \" + str(round(slope,2)) + \"x +\" + str(round(intercept,2))\n",
    "#print(line_eq)\n",
    "\n",
    "# Create Plot\n",
    "plt.scatter(x, y)\n",
    "plt.plot(x,regress_values,\"r-\")\n",
    "\n",
    "# Label plot and annotate the line equation\n",
    "plt.xlabel('Max Temperature')\n",
    "plt.ylabel('Latitude')\n",
    "plt.title('Southern Hemisphere Max Temp v Lat')\n",
    "plt.annotate(line_eq,(20,15),fontsize=15,color=\"red\")\n",
    "\n",
    "# Print r square value\n",
    "#print(f\"The r-squared is: {rvalue}\")\n",
    "\n",
    "# Show plot\n",
    "plt.show()\n",
    "\n",
    "\n",
    "\n"
   ]
  },
  {
   "cell_type": "markdown",
   "metadata": {},
   "source": [
    "####  Northern Hemisphere - Humidity (%) vs. Latitude Linear Regression"
   ]
  },
  {
   "cell_type": "code",
   "execution_count": 14,
   "metadata": {},
   "outputs": [
    {
     "data": {
      "image/png": "[encoded data removed]",
      "text/plain": [
       "<Figure size 432x288 with 1 Axes>"
      ]
     },
     "metadata": {
      "needs_background": "light"
     },
     "output_type": "display_data"
    }
   ],
   "source": [
    "x=[]\n",
    "y=[]\n",
    "\n",
    "for index, weatherstuff in northern_df.iterrows():\n",
    "    try:\n",
    "        x.append(northern_df['main'][index]['humidity'])\n",
    "        y.append(northern_df['coord'][index]['lat'])\n",
    "    except Exception:\n",
    "        continue\n",
    "\n",
    "x_value_df = pd.DataFrame(x)        \n",
    "        \n",
    "(slope, intercept, rvalue, pvalue, stderr) = linregress(x, y)\n",
    "\n",
    "# Get regression values\n",
    "regress_values = x_value_df * slope + intercept\n",
    "#print(regress_values)\n",
    "\n",
    "\n",
    "# Create line equation string\n",
    "line_eq = \"y = \" + str(round(slope,2)) + \"x +\" + str(round(intercept,2))\n",
    "#print(line_eq)\n",
    "\n",
    "# Create Plot\n",
    "plt.scatter(x, y)\n",
    "plt.plot(x,regress_values,\"r-\")\n",
    "\n",
    "# Label plot and annotate the line equation\n",
    "plt.xlabel('Humidity')\n",
    "plt.ylabel('Latitude')\n",
    "plt.title('Northern Hemisphere Humidity v Lat')\n",
    "plt.annotate(line_eq,(20,15),fontsize=15,color=\"red\")\n",
    "\n",
    "# Print r square value\n",
    "#print(f\"The r-squared is: {rvalue}\")\n",
    "\n",
    "# Show plot\n",
    "plt.show()\n"
   ]
  },
  {
   "cell_type": "markdown",
   "metadata": {},
   "source": [
    "####  Southern Hemisphere - Humidity (%) vs. Latitude Linear Regression"
   ]
  },
  {
   "cell_type": "code",
   "execution_count": 15,
   "metadata": {},
   "outputs": [
    {
     "data": {
      "image/png": "[encoded data removed]",
      "text/plain": [
       "<Figure size 432x288 with 1 Axes>"
      ]
     },
     "metadata": {
      "needs_background": "light"
     },
     "output_type": "display_data"
    }
   ],
   "source": [
    "x=[]\n",
    "y=[]\n",
    "\n",
    "for index, weatherstuff in southern_df.iterrows():\n",
    "    try:\n",
    "        x.append(southern_df['main'][index]['humidity'])\n",
    "        y.append(southern_df['coord'][index]['lat'])\n",
    "    except Exception:\n",
    "        continue\n",
    "\n",
    "x_value_df = pd.DataFrame(x)        \n",
    "        \n",
    "(slope, intercept, rvalue, pvalue, stderr) = linregress(x, y)\n",
    "\n",
    "# Get regression values\n",
    "regress_values = x_value_df * slope + intercept\n",
    "#print(regress_values)\n",
    "\n",
    "\n",
    "# Create line equation string\n",
    "line_eq = \"y = \" + str(round(slope,2)) + \"x +\" + str(round(intercept,2))\n",
    "#print(line_eq)\n",
    "\n",
    "# Create Plot\n",
    "plt.scatter(x, y)\n",
    "plt.plot(x,regress_values,\"r-\")\n",
    "\n",
    "# Label plot and annotate the line equation\n",
    "plt.xlabel('Humidity')\n",
    "plt.ylabel('Latitude')\n",
    "plt.title('Southern Hemisphere Humidity v Lat')\n",
    "plt.annotate(line_eq,(20,15),fontsize=15,color=\"red\")\n",
    "\n",
    "# Print r square value\n",
    "#print(f\"The r-squared is: {rvalue}\")\n",
    "\n",
    "# Show plot\n",
    "plt.show()\n"
   ]
  },
  {
   "cell_type": "markdown",
   "metadata": {},
   "source": [
    "####  Northern Hemisphere - Cloudiness (%) vs. Latitude Linear Regression"
   ]
  },
  {
   "cell_type": "code",
   "execution_count": 16,
   "metadata": {},
   "outputs": [
    {
     "data": {
      "image/png": "[encoded data removed]",
      "text/plain": [
       "<Figure size 432x288 with 1 Axes>"
      ]
     },
     "metadata": {
      "needs_background": "light"
     },
     "output_type": "display_data"
    }
   ],
   "source": [
    "x=[]\n",
    "y=[]\n",
    "\n",
    "for index, weatherstuff in northern_df.iterrows():\n",
    "    try:\n",
    "        x.append(northern_df['clouds'][index]['all'])\n",
    "        y.append(northern_df['coord'][index]['lat'])\n",
    "    except Exception:\n",
    "        continue\n",
    "\n",
    "x_value_df = pd.DataFrame(x)        \n",
    "        \n",
    "(slope, intercept, rvalue, pvalue, stderr) = linregress(x, y)\n",
    "\n",
    "# Get regression values\n",
    "regress_values = x_value_df * slope + intercept\n",
    "#print(regress_values)\n",
    "\n",
    "\n",
    "# Create line equation string\n",
    "line_eq = \"y = \" + str(round(slope,2)) + \"x +\" + str(round(intercept,2))\n",
    "#print(line_eq)\n",
    "\n",
    "# Create Plot\n",
    "plt.scatter(x, y)\n",
    "plt.plot(x,regress_values,\"r-\")\n",
    "\n",
    "# Label plot and annotate the line equation\n",
    "plt.xlabel('Cloudiness')\n",
    "plt.ylabel('Latitude')\n",
    "plt.title('Northern Hemisphere Cloudiness v Lat')\n",
    "plt.annotate(line_eq,(20,15),fontsize=15,color=\"red\")\n",
    "\n",
    "# Print r square value\n",
    "#print(f\"The r-squared is: {rvalue}\")\n",
    "\n",
    "# Show plot\n",
    "plt.show()"
   ]
  },
  {
   "cell_type": "markdown",
   "metadata": {},
   "source": [
    "####  Southern Hemisphere - Cloudiness (%) vs. Latitude Linear Regression"
   ]
  },
  {
   "cell_type": "code",
   "execution_count": 25,
   "metadata": {},
   "outputs": [
    {
     "data": {
      "image/png": "[encoded data removed]",
      "text/plain": [
       "<Figure size 432x288 with 1 Axes>"
      ]
     },
     "metadata": {
      "needs_background": "light"
     },
     "output_type": "display_data"
    }
   ],
   "source": [
    "x=[]\n",
    "y=[]\n",
    "\n",
    "for index, weatherstuff in southern_df.iterrows():\n",
    "    try:\n",
    "        x.append(southern_df['clouds'][index]['all'])\n",
    "        y.append(southern_df['coord'][index]['lat'])\n",
    "    except Exception:\n",
    "        continue\n",
    "\n",
    "x_value_df = pd.DataFrame(x)        \n",
    "        \n",
    "(slope, intercept, rvalue, pvalue, stderr) = linregress(x, y)\n",
    "\n",
    "# Get regression values\n",
    "regress_values = x_value_df * slope + intercept\n",
    "#print(regress_values)\n",
    "\n",
    "\n",
    "# Create line equation string\n",
    "line_eq = \"y = \" + str(round(slope,2)) + \"x +\" + str(round(intercept,2))\n",
    "#print(line_eq)\n",
    "\n",
    "# Create Plot\n",
    "plt.scatter(x, y)\n",
    "plt.plot(x,regress_values,\"r-\")\n",
    "\n",
    "# Label plot and annotate the line equation\n",
    "plt.xlabel('Cloudiness')\n",
    "plt.ylabel('Latitude')\n",
    "plt.title('Southern Hemisphere Cloudiness v Lat')\n",
    "plt.annotate(line_eq,(20,15),fontsize=15,color=\"red\")\n",
    "\n",
    "# Print r square value\n",
    "#print(f\"The r-squared is: {rvalue}\")\n",
    "\n",
    "# Show plot\n",
    "plt.show()\n"
   ]
  },
  {
   "cell_type": "markdown",
   "metadata": {},
   "source": [
    "####  Northern Hemisphere - Wind Speed (mph) vs. Latitude Linear Regression"
   ]
  },
  {
   "cell_type": "code",
   "execution_count": 17,
   "metadata": {},
   "outputs": [
    {
     "data": {
      "image/png": "[encoded data removed]",
      "text/plain": [
       "<Figure size 432x288 with 1 Axes>"
      ]
     },
     "metadata": {
      "needs_background": "light"
     },
     "output_type": "display_data"
    }
   ],
   "source": [
    "x=[]\n",
    "y=[]\n",
    "\n",
    "for index, weatherstuff in northern_df.iterrows():\n",
    "    try:\n",
    "        x.append(northern_df['wind'][index]['speed'])\n",
    "        y.append(northern_df['coord'][index]['lat'])\n",
    "    except Exception:\n",
    "        continue\n",
    "\n",
    "x_value_df = pd.DataFrame(x)        \n",
    "        \n",
    "(slope, intercept, rvalue, pvalue, stderr) = linregress(x, y)\n",
    "\n",
    "# Get regression values\n",
    "regress_values = x_value_df * slope + intercept\n",
    "#print(regress_values)\n",
    "\n",
    "\n",
    "# Create line equation string\n",
    "line_eq = \"y = \" + str(round(slope,2)) + \"x +\" + str(round(intercept,2))\n",
    "#print(line_eq)\n",
    "\n",
    "# Create Plot\n",
    "plt.scatter(x, y)\n",
    "plt.plot(x,regress_values,\"r-\")\n",
    "\n",
    "# Label plot and annotate the line equation\n",
    "plt.xlabel('Wind Speed')\n",
    "plt.ylabel('Latitude')\n",
    "plt.title('Northern Hemisphere Wind v Lat')\n",
    "plt.annotate(line_eq,(20,15),fontsize=15,color=\"red\")\n",
    "\n",
    "# Print r square value\n",
    "#print(f\"The r-squared is: {rvalue}\")\n",
    "\n",
    "# Show plot\n",
    "plt.show()"
   ]
  },
  {
   "cell_type": "markdown",
   "metadata": {},
   "source": [
    "####  Southern Hemisphere - Wind Speed (mph) vs. Latitude Linear Regression"
   ]
  },
  {
   "cell_type": "code",
   "execution_count": 18,
   "metadata": {},
   "outputs": [
    {
     "data": {
      "image/png": "[encoded data removed]",
      "text/plain": [
       "<Figure size 432x288 with 1 Axes>"
      ]
     },
     "metadata": {
      "needs_background": "light"
     },
     "output_type": "display_data"
    }
   ],
   "source": [
    "x=[]\n",
    "y=[]\n",
    "\n",
    "for index, weatherstuff in southern_df.iterrows():\n",
    "    try:\n",
    "        x.append(southern_df['wind'][index]['speed'])\n",
    "        y.append(southern_df['coord'][index]['lat'])\n",
    "    except Exception:\n",
    "        continue\n",
    "\n",
    "x_value_df = pd.DataFrame(x)        \n",
    "        \n",
    "(slope, intercept, rvalue, pvalue, stderr) = linregress(x, y)\n",
    "\n",
    "# Get regression values\n",
    "regress_values = x_value_df * slope + intercept\n",
    "#print(regress_values)\n",
    "\n",
    "\n",
    "# Create line equation string\n",
    "line_eq = \"y = \" + str(round(slope,2)) + \"x +\" + str(round(intercept,2))\n",
    "#print(line_eq)\n",
    "\n",
    "# Create Plot\n",
    "plt.scatter(x, y)\n",
    "plt.plot(x,regress_values,\"r-\")\n",
    "\n",
    "# Label plot and annotate the line equation\n",
    "plt.xlabel('Wind Speed')\n",
    "plt.ylabel('Latitude')\n",
    "plt.title('Southern Hemisphere Wind v Lat')\n",
    "plt.annotate(line_eq,(20,15),fontsize=15,color=\"red\")\n",
    "\n",
    "# Print r square value\n",
    "#print(f\"The r-squared is: {rvalue}\")\n",
    "\n",
    "# Show plot\n",
    "plt.show()\n"
   ]
  },
  {
   "cell_type": "code",
   "execution_count": null,
   "metadata": {},
   "outputs": [],
   "source": []
  }
 ],
 "metadata": {
  "anaconda-cloud": {},
  "kernel_info": {
   "name": "python3"
  },
  "kernelspec": {
   "display_name": "Python 3",
   "language": "python",
   "name": "python3"
  },
  "language_info": {
   "codemirror_mode": {
    "name": "ipython",
    "version": 3
   },
   "file_extension": ".py",
   "mimetype": "text/x-python",
   "name": "python",
   "nbconvert_exporter": "python",
   "pygments_lexer": "ipython3",
   "version": "3.7.4"
  },
  "latex_envs": {
   "LaTeX_envs_menu_present": true,
   "autoclose": false,
   "autocomplete": true,
   "bibliofile": "biblio.bib",
   "cite_by": "apalike",
   "current_citInitial": 1,
   "eqLabelWithNumbers": true,
   "eqNumInitial": 1,
   "hotkeys": {
    "equation": "Ctrl-E",
    "itemize": "Ctrl-I"
   },
   "labels_anchors": false,
   "latex_user_defs": false,
   "report_style_numbering": false,
   "user_envs_cfg": false
  },
  "nteract": {
   "version": "0.12.3"
  }
 },
 "nbformat": 4,
 "nbformat_minor": 2
}
